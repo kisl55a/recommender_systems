{
 "cells": [
  {
   "cell_type": "markdown",
   "metadata": {},
   "source": [
    "<h1>Assignment 3</h1>"
   ]
  },
  {
   "cell_type": "markdown",
   "metadata": {},
   "source": [
    "<h3> <a href=\"https://colab.research.google.com/drive/1j4I1iVzW0DlXZQmpxlkhUHBlAfnquu7C?usp=sharing\">Assignment 3 Colab Link</a></h3>"
   ]
  },
  {
   "cell_type": "code",
   "execution_count": 233,
   "id": "5f09fe1c-ed04-49d6-b6d2-1333a896d2e8",
   "metadata": {},
   "outputs": [],
   "source": [
    "import pandas as pd\n",
    "import numpy as np\n",
    "\n",
    "\n",
    "ZIP_FILE_LINK = 'https://files.grouplens.org/datasets/movielens/ml-latest-small.zip'"
   ]
  },
  {
   "cell_type": "markdown",
   "metadata": {},
   "source": [
    "<h4>Loading data</h4>"
   ]
  },
  {
   "cell_type": "code",
   "execution_count": 234,
   "metadata": {},
   "outputs": [],
   "source": [
    "# Fetch data from ZIP file link and store converted CSV\n",
    "def fetch_data():\n",
    "    import requests, zipfile, io\n",
    "    r = requests.get(ZIP_FILE_LINK)\n",
    "    z = zipfile.ZipFile(io.BytesIO(r.content))\n",
    "    z.extractall()\n",
    "\n",
    "# Check if the folder already exists\n",
    "try:\n",
    "    open('ml-latest-small/ratings.csv')\n",
    "except FileNotFoundError:\n",
    "    print('Fetching data...')\n",
    "    fetch_data()\n",
    "\n",
    "# Read CSV files\n",
    "ratings = pd.read_csv('ml-latest-small/ratings.csv')\n",
    "movies = pd.read_csv('ml-latest-small/movies.csv')\n",
    "links = pd.read_csv('ml-latest-small/links.csv')\n",
    "tags = pd.read_csv('ml-latest-small/tags.csv')\n"
   ]
  },
  {
   "cell_type": "code",
   "execution_count": 235,
   "id": "dd83225d",
   "metadata": {},
   "outputs": [
    {
     "data": {
      "text/html": [
       "<div>\n",
       "<style scoped>\n",
       "    .dataframe tbody tr th:only-of-type {\n",
       "        vertical-align: middle;\n",
       "    }\n",
       "\n",
       "    .dataframe tbody tr th {\n",
       "        vertical-align: top;\n",
       "    }\n",
       "\n",
       "    .dataframe thead th {\n",
       "        text-align: right;\n",
       "    }\n",
       "</style>\n",
       "<table border=\"1\" class=\"dataframe\">\n",
       "  <thead>\n",
       "    <tr style=\"text-align: right;\">\n",
       "      <th></th>\n",
       "      <th>userId</th>\n",
       "      <th>movieId</th>\n",
       "      <th>rating</th>\n",
       "      <th>timestamp</th>\n",
       "    </tr>\n",
       "  </thead>\n",
       "  <tbody>\n",
       "    <tr>\n",
       "      <th>0</th>\n",
       "      <td>1</td>\n",
       "      <td>1</td>\n",
       "      <td>4.0</td>\n",
       "      <td>964982703</td>\n",
       "    </tr>\n",
       "    <tr>\n",
       "      <th>1</th>\n",
       "      <td>1</td>\n",
       "      <td>3</td>\n",
       "      <td>4.0</td>\n",
       "      <td>964981247</td>\n",
       "    </tr>\n",
       "    <tr>\n",
       "      <th>2</th>\n",
       "      <td>1</td>\n",
       "      <td>6</td>\n",
       "      <td>4.0</td>\n",
       "      <td>964982224</td>\n",
       "    </tr>\n",
       "    <tr>\n",
       "      <th>3</th>\n",
       "      <td>1</td>\n",
       "      <td>47</td>\n",
       "      <td>5.0</td>\n",
       "      <td>964983815</td>\n",
       "    </tr>\n",
       "    <tr>\n",
       "      <th>4</th>\n",
       "      <td>1</td>\n",
       "      <td>50</td>\n",
       "      <td>5.0</td>\n",
       "      <td>964982931</td>\n",
       "    </tr>\n",
       "  </tbody>\n",
       "</table>\n",
       "</div>"
      ],
      "text/plain": [
       "   userId  movieId  rating  timestamp\n",
       "0       1        1     4.0  964982703\n",
       "1       1        3     4.0  964981247\n",
       "2       1        6     4.0  964982224\n",
       "3       1       47     5.0  964983815\n",
       "4       1       50     5.0  964982931"
      ]
     },
     "execution_count": 235,
     "metadata": {},
     "output_type": "execute_result"
    }
   ],
   "source": [
    "ratings.head()"
   ]
  },
  {
   "cell_type": "markdown",
   "metadata": {},
   "source": [
    "<h2>Part A</h2>\n",
    "\n",
    "<p>Motivated by the sequential methods we discussed in class (please see also at the\n",
    "corresponding research paper https://homepages.tuni. /konstantinos.stefanidis/docs/\n",
    "sac20.pdf), the goal of the third assignment is to design (Score: 30%) and implement\n",
    "(Score: 30%) a new method for producing sequential group recommendations. Also,\n",
    "provide detailed explanations and clarifications about why the method you propose works\n",
    "well for the case of sequential group recommendations (Score: 25%).</p>\n"
   ]
  },
  {
   "cell_type": "markdown",
   "metadata": {},
   "source": [
    "<p>First let's get helper functions for predicting movie ratings from the previous assignment and prepare data</p>"
   ]
  },
  {
   "cell_type": "code",
   "execution_count": 236,
   "metadata": {},
   "outputs": [],
   "source": [
    "# Helper functions from the previous assignment\n",
    "\n",
    "# min_common_percentage = 0.1\n",
    "min_common_items = 2\n",
    "\n",
    "# Implementation of Pearson correlation\n",
    "def get_similarity_between_two_items(user1, user2):\n",
    "    # Find common items\n",
    "    common_items = user1.notna() & user2.notna()\n",
    "    \n",
    "    common_items_count = common_items.sum()\n",
    "    if common_items_count == 0:\n",
    "        return 0  # No common items, no correlation\n",
    "    \n",
    "    # We implement a treshold to avoid meaningless correlations\n",
    "    # Approach 1: Common items percentage\n",
    "    # total_items_user1 = user1.count()\n",
    "    # total_items_user2 = user2.count()\n",
    "    # common_percentage_user1 = common_items_count / total_items_user1\n",
    "    # common_percentage_user2 = common_items_count / total_items_user2\n",
    "    # if common_percentage_user1 < min_common_percentage or common_percentage_user2 < min_common_percentage:\n",
    "    #     return 0  # Not enough common items for a meaningful correlation\n",
    "\n",
    "    # Approach 2: Common items count\n",
    "    if common_items_count < min_common_items:\n",
    "        return 0  # Not enough common items for a meaningful correlation\n",
    "    \n",
    "    # Get the common items\n",
    "    user1_common = user1[common_items]\n",
    "    user2_common = user2[common_items]\n",
    "    \n",
    "    # Pearson correlation requires at least 2 common items\n",
    "    if len(user1_common) < 2:\n",
    "        return 0 \n",
    "    \n",
    "    # Calculate the Pearson correlation coefficient\n",
    "    correlation = user1_common.corr(user2_common)\n",
    "    \n",
    "    if np.isnan(correlation):\n",
    "        return 0  # Handle NaN values\n",
    "    \n",
    "    return max(correlation, 0)  # Return a non-negative correlation\n",
    "\n",
    "def predict_rating(user_id, movie_id, ratings_by_users):\n",
    "    # If the user has already rated the movie, return the known rating\n",
    "    if not np.isnan(ratings_by_users.loc[user_id, movie_id]):\n",
    "        return ratings_by_users.loc[user_id, movie_id]\n",
    "\n",
    "    # Get the users who rated the movie\n",
    "    users_who_rated = ratings_by_users[ratings_by_users[movie_id].notna()].index\n",
    "\n",
    "    # Calculate the similarities and the weighted ratings\n",
    "    similarities = [get_similarity_between_two_items(ratings_by_users.loc[user_id], ratings_by_users.loc[other_user_id]) for other_user_id in users_who_rated]\n",
    "    weighted_ratings = [similarity * (ratings_by_users.loc[other_user_id, movie_id] - ratings_by_users.loc[other_user_id].mean()) for other_user_id, similarity in zip(users_who_rated, similarities)]\n",
    "\n",
    "    # If no one else rated the movie, return the mean rating of the user\n",
    "    if sum(similarities) == 0:\n",
    "        return ratings_by_users.loc[user_id].mean()\n",
    "\n",
    "    # Return the weighted average rating, ensuring it is within the range of 0 - 5\n",
    "    return max(min((sum(weighted_ratings) / sum(similarities)) + ratings_by_users.loc[user_id].mean(), 5), 0)\n"
   ]
  },
  {
   "cell_type": "code",
   "execution_count": 237,
   "id": "b5278137",
   "metadata": {},
   "outputs": [],
   "source": [
    "# Copying the ratings dataframe to a new dataframe for further processing\n",
    "movie_ratings = ratings.copy()"
   ]
  },
  {
   "cell_type": "code",
   "execution_count": 238,
   "metadata": {},
   "outputs": [
    {
     "data": {
      "text/html": [
       "<div>\n",
       "<style scoped>\n",
       "    .dataframe tbody tr th:only-of-type {\n",
       "        vertical-align: middle;\n",
       "    }\n",
       "\n",
       "    .dataframe tbody tr th {\n",
       "        vertical-align: top;\n",
       "    }\n",
       "\n",
       "    .dataframe thead th {\n",
       "        text-align: right;\n",
       "    }\n",
       "</style>\n",
       "<table border=\"1\" class=\"dataframe\">\n",
       "  <thead>\n",
       "    <tr style=\"text-align: right;\">\n",
       "      <th>movieId</th>\n",
       "      <th>1</th>\n",
       "      <th>2</th>\n",
       "      <th>3</th>\n",
       "      <th>4</th>\n",
       "      <th>5</th>\n",
       "      <th>6</th>\n",
       "      <th>7</th>\n",
       "      <th>8</th>\n",
       "      <th>9</th>\n",
       "      <th>10</th>\n",
       "      <th>...</th>\n",
       "      <th>193565</th>\n",
       "      <th>193567</th>\n",
       "      <th>193571</th>\n",
       "      <th>193573</th>\n",
       "      <th>193579</th>\n",
       "      <th>193581</th>\n",
       "      <th>193583</th>\n",
       "      <th>193585</th>\n",
       "      <th>193587</th>\n",
       "      <th>193609</th>\n",
       "    </tr>\n",
       "    <tr>\n",
       "      <th>userId</th>\n",
       "      <th></th>\n",
       "      <th></th>\n",
       "      <th></th>\n",
       "      <th></th>\n",
       "      <th></th>\n",
       "      <th></th>\n",
       "      <th></th>\n",
       "      <th></th>\n",
       "      <th></th>\n",
       "      <th></th>\n",
       "      <th></th>\n",
       "      <th></th>\n",
       "      <th></th>\n",
       "      <th></th>\n",
       "      <th></th>\n",
       "      <th></th>\n",
       "      <th></th>\n",
       "      <th></th>\n",
       "      <th></th>\n",
       "      <th></th>\n",
       "      <th></th>\n",
       "    </tr>\n",
       "  </thead>\n",
       "  <tbody>\n",
       "    <tr>\n",
       "      <th>1</th>\n",
       "      <td>4.0</td>\n",
       "      <td>NaN</td>\n",
       "      <td>4.0</td>\n",
       "      <td>NaN</td>\n",
       "      <td>NaN</td>\n",
       "      <td>4.0</td>\n",
       "      <td>NaN</td>\n",
       "      <td>NaN</td>\n",
       "      <td>NaN</td>\n",
       "      <td>NaN</td>\n",
       "      <td>...</td>\n",
       "      <td>NaN</td>\n",
       "      <td>NaN</td>\n",
       "      <td>NaN</td>\n",
       "      <td>NaN</td>\n",
       "      <td>NaN</td>\n",
       "      <td>NaN</td>\n",
       "      <td>NaN</td>\n",
       "      <td>NaN</td>\n",
       "      <td>NaN</td>\n",
       "      <td>NaN</td>\n",
       "    </tr>\n",
       "    <tr>\n",
       "      <th>2</th>\n",
       "      <td>NaN</td>\n",
       "      <td>NaN</td>\n",
       "      <td>NaN</td>\n",
       "      <td>NaN</td>\n",
       "      <td>NaN</td>\n",
       "      <td>NaN</td>\n",
       "      <td>NaN</td>\n",
       "      <td>NaN</td>\n",
       "      <td>NaN</td>\n",
       "      <td>NaN</td>\n",
       "      <td>...</td>\n",
       "      <td>NaN</td>\n",
       "      <td>NaN</td>\n",
       "      <td>NaN</td>\n",
       "      <td>NaN</td>\n",
       "      <td>NaN</td>\n",
       "      <td>NaN</td>\n",
       "      <td>NaN</td>\n",
       "      <td>NaN</td>\n",
       "      <td>NaN</td>\n",
       "      <td>NaN</td>\n",
       "    </tr>\n",
       "    <tr>\n",
       "      <th>3</th>\n",
       "      <td>NaN</td>\n",
       "      <td>NaN</td>\n",
       "      <td>NaN</td>\n",
       "      <td>NaN</td>\n",
       "      <td>NaN</td>\n",
       "      <td>NaN</td>\n",
       "      <td>NaN</td>\n",
       "      <td>NaN</td>\n",
       "      <td>NaN</td>\n",
       "      <td>NaN</td>\n",
       "      <td>...</td>\n",
       "      <td>NaN</td>\n",
       "      <td>NaN</td>\n",
       "      <td>NaN</td>\n",
       "      <td>NaN</td>\n",
       "      <td>NaN</td>\n",
       "      <td>NaN</td>\n",
       "      <td>NaN</td>\n",
       "      <td>NaN</td>\n",
       "      <td>NaN</td>\n",
       "      <td>NaN</td>\n",
       "    </tr>\n",
       "    <tr>\n",
       "      <th>4</th>\n",
       "      <td>NaN</td>\n",
       "      <td>NaN</td>\n",
       "      <td>NaN</td>\n",
       "      <td>NaN</td>\n",
       "      <td>NaN</td>\n",
       "      <td>NaN</td>\n",
       "      <td>NaN</td>\n",
       "      <td>NaN</td>\n",
       "      <td>NaN</td>\n",
       "      <td>NaN</td>\n",
       "      <td>...</td>\n",
       "      <td>NaN</td>\n",
       "      <td>NaN</td>\n",
       "      <td>NaN</td>\n",
       "      <td>NaN</td>\n",
       "      <td>NaN</td>\n",
       "      <td>NaN</td>\n",
       "      <td>NaN</td>\n",
       "      <td>NaN</td>\n",
       "      <td>NaN</td>\n",
       "      <td>NaN</td>\n",
       "    </tr>\n",
       "    <tr>\n",
       "      <th>5</th>\n",
       "      <td>4.0</td>\n",
       "      <td>NaN</td>\n",
       "      <td>NaN</td>\n",
       "      <td>NaN</td>\n",
       "      <td>NaN</td>\n",
       "      <td>NaN</td>\n",
       "      <td>NaN</td>\n",
       "      <td>NaN</td>\n",
       "      <td>NaN</td>\n",
       "      <td>NaN</td>\n",
       "      <td>...</td>\n",
       "      <td>NaN</td>\n",
       "      <td>NaN</td>\n",
       "      <td>NaN</td>\n",
       "      <td>NaN</td>\n",
       "      <td>NaN</td>\n",
       "      <td>NaN</td>\n",
       "      <td>NaN</td>\n",
       "      <td>NaN</td>\n",
       "      <td>NaN</td>\n",
       "      <td>NaN</td>\n",
       "    </tr>\n",
       "  </tbody>\n",
       "</table>\n",
       "<p>5 rows × 9724 columns</p>\n",
       "</div>"
      ],
      "text/plain": [
       "movieId  1       2       3       4       5       6       7       8       \\\n",
       "userId                                                                    \n",
       "1           4.0     NaN     4.0     NaN     NaN     4.0     NaN     NaN   \n",
       "2           NaN     NaN     NaN     NaN     NaN     NaN     NaN     NaN   \n",
       "3           NaN     NaN     NaN     NaN     NaN     NaN     NaN     NaN   \n",
       "4           NaN     NaN     NaN     NaN     NaN     NaN     NaN     NaN   \n",
       "5           4.0     NaN     NaN     NaN     NaN     NaN     NaN     NaN   \n",
       "\n",
       "movieId  9       10      ...  193565  193567  193571  193573  193579  193581  \\\n",
       "userId                   ...                                                   \n",
       "1           NaN     NaN  ...     NaN     NaN     NaN     NaN     NaN     NaN   \n",
       "2           NaN     NaN  ...     NaN     NaN     NaN     NaN     NaN     NaN   \n",
       "3           NaN     NaN  ...     NaN     NaN     NaN     NaN     NaN     NaN   \n",
       "4           NaN     NaN  ...     NaN     NaN     NaN     NaN     NaN     NaN   \n",
       "5           NaN     NaN  ...     NaN     NaN     NaN     NaN     NaN     NaN   \n",
       "\n",
       "movieId  193583  193585  193587  193609  \n",
       "userId                                   \n",
       "1           NaN     NaN     NaN     NaN  \n",
       "2           NaN     NaN     NaN     NaN  \n",
       "3           NaN     NaN     NaN     NaN  \n",
       "4           NaN     NaN     NaN     NaN  \n",
       "5           NaN     NaN     NaN     NaN  \n",
       "\n",
       "[5 rows x 9724 columns]"
      ]
     },
     "execution_count": 238,
     "metadata": {},
     "output_type": "execute_result"
    }
   ],
   "source": [
    "# Making a pivot table to get the ratings of each movie by each user\n",
    "ratings_by_users = movie_ratings.pivot_table(index='userId', columns='movieId', values='rating', aggfunc='first')\n",
    "ratings_by_users.head()"
   ]
  },
  {
   "cell_type": "markdown",
   "metadata": {},
   "source": [
    "<h4>Designing and implementing a new method for producing sequential group recommendations<h4>"
   ]
  },
  {
   "cell_type": "markdown",
   "metadata": {},
   "source": [
    "<p>First we added 2 new group rating prediction strategies: \"hybrid\" and \"fairness\"</p>"
   ]
  },
  {
   "cell_type": "markdown",
   "metadata": {},
   "source": [
    "<h5> Hybrid strategy explanation <h5>"
   ]
  },
  {
   "cell_type": "markdown",
   "metadata": {},
   "source": [
    "This \"hybrid\" strategy combines the \"average\" and \"least misery\" strategies using a weighted average, providing a balance between the two approaches. The \"average\" strategy calculates the mean rating for each movie across all users in the group, which can provide a broad appeal as it considers the general consensus of the group. However, it may overlook individual preferences, especially for users whose tastes significantly differ from the group average.\n",
    "\n",
    "On the other hand, the \"least misery\" strategy selects the minimum rating for each movie across all users, aiming to avoid any potential dissatisfaction within the group. This strategy ensures that the recommended items are at least tolerable to all users. However, it can be overly conservative, potentially missing out on items that are highly rated by a subset of the group. By combining these two strategies, the \"hybrid\" approach can provide recommendations that both appeal to the group as a whole and avoid causing strong dissatisfaction among any of its members."
   ]
  },
  {
   "cell_type": "markdown",
   "metadata": {},
   "source": [
    "<h5>Fairness stragegy explanation</h5>"
   ]
  },
  {
   "cell_type": "markdown",
   "metadata": {},
   "source": [
    "The \"fairness\" strategy in this context is designed to balance the satisfaction of all users in a group when generating recommendations. The first step in this strategy is to calculate the average rating for each movie across all users in the group. This average rating represents the general consensus of the group about each movie.\n",
    "\n",
    "The second step is to adjust this average rating by the variance of the ratings. The variance measures how much the ratings for each movie differ among the users in the group. By subtracting this variance from the average rating, the strategy gives higher scores to movies that are rated more consistently by the group. This means that movies with similar ratings from all users are preferred, promoting fairness in the group recommendation. This strategy can be particularly useful in situations where it's important to avoid favoring some users over others."
   ]
  },
  {
   "cell_type": "code",
   "execution_count": 239,
   "metadata": {},
   "outputs": [],
   "source": [
    "# The function has some extensive parameters to allow for more flexibility\n",
    "# userIds: The ids of the users we want to predict the ratings for\n",
    "# all_users_ratings_copy: The movie ratings by all users\n",
    "# strategy: The strategy to use for the prediction. Can be 'average' or 'least_misery'\n",
    "\n",
    "def group_rating_prediction(userIds, all_users_ratings, strategy='average', useFullDataset=False, hybrid_weight=None):\n",
    "    # Get only the data about the users we are interested in\n",
    "    group_users_ratings = all_users_ratings.loc[userIds]\n",
    "\n",
    "    # Remove the movies that no one has rated\n",
    "    group_users_ratings = group_users_ratings.dropna(axis=1, how='all')\n",
    "\n",
    "    # Dataset to use for prediction\n",
    "    if(useFullDataset):\n",
    "        dataset_for_prediction = all_users_ratings.copy()\n",
    "    else:\n",
    "        dataset_for_prediction = group_users_ratings.copy()\n",
    "\n",
    "    # Predict the individual ratings of the movies that the users haven't rated\n",
    "    for user_id in userIds:\n",
    "        for movie_id in group_users_ratings.columns:\n",
    "            group_users_ratings.loc[user_id, movie_id] = predict_rating(user_id, movie_id, dataset_for_prediction)\n",
    "    \n",
    "    if(strategy == 'average'):\n",
    "        # Get the average rating for every movie\n",
    "        movie_ratings_average = group_users_ratings.mean(axis=0)\n",
    "\n",
    "    if(strategy == 'least_misery'):\n",
    "        # Get the least misery rating for every movie\n",
    "        movie_ratings_average = group_users_ratings.min(axis=0)\n",
    "\n",
    "    if(strategy == 'fairness'):\n",
    "        # Fairness strategy \n",
    "        # Get the average rating for every movie\n",
    "        movie_ratings_average = group_users_ratings.mean(axis=0)\n",
    "        # Adjust the average rating by the variance of ratings\n",
    "        movie_ratings_variance = group_users_ratings.var(axis=0)\n",
    "        movie_ratings_average -= movie_ratings_variance\n",
    "\n",
    "    if(strategy == 'hybrid' and hybrid_weight is not None): \n",
    "        # Get the average rating for every movie\n",
    "        movie_ratings_average_average = group_users_ratings.mean(axis=0)\n",
    "        # Get the least misery rating for every movie, ignore NaN values\n",
    "        movie_ratings_average_least_misery = group_users_ratings.min(axis=0)\n",
    "        # Calculate the hybrid rating\n",
    "        movie_ratings_average = (1 - hybrid_weight) * movie_ratings_average_average + hybrid_weight * movie_ratings_average_least_misery\n",
    "\n",
    "    # Sort the movies by their average rating\n",
    "    movie_ratings_average = movie_ratings_average.sort_values(ascending=False)\n",
    "\n",
    "    return movie_ratings_average\n"
   ]
  },
  {
   "cell_type": "markdown",
   "metadata": {},
   "source": [
    "<p>Secondly we need to implement a sequence prediction method<p>"
   ]
  },
  {
   "cell_type": "markdown",
   "metadata": {},
   "source": [
    "The function `sequential_group_recommendation` is designed to generate a sequence of movie recommendations for a group of users. It takes as input a list of user IDs, a DataFrame of all users' ratings, and optional parameters to control the number of recommendations and iterations, and whether to use an explicit recommendation strategy.\n",
    "\n",
    "The function operates in a loop for a specified number of iterations. In each iteration, it calculates a \"satisfaction difference\" based on the maximum and minimum user satisfaction scores from the previous iteration. It then chooses a recommendation strategy based on this satisfaction difference or an explicitly provided strategy. Using the chosen strategy, it generates a group recommendation and calculates the satisfaction of each user with this recommendation. It also calculates the average group satisfaction for this iteration and the overall sequence satisfaction. The recommended movies are then removed from the DataFrame of ratings, and the process repeats for the next iteration. The function returns the sequence of all recommendations, the satisfaction scores of each user at each iteration, the group satisfaction scores for each iteration, and the overall sequence satisfaction score."
   ]
  },
  {
   "cell_type": "code",
   "execution_count": 240,
   "metadata": {},
   "outputs": [],
   "source": [
    "# Satisfaction difference thresholds for choosing the strategy\n",
    "high_threshold = 0.75\n",
    "low_threshold = 0.10\n",
    "\n",
    "from scipy.stats import pearsonr\n",
    "\n",
    "def calculate_group_similarity(userIds, all_users_ratings):\n",
    "    # Extract the ratings of the users in the group\n",
    "    group_ratings = all_users_ratings.loc[userIds]\n",
    "\n",
    "    # Calculate the pairwise Pearson correlation between all users in the group\n",
    "    similarity_scores = []\n",
    "    for i in range(len(userIds)):\n",
    "        for j in range(i+1, len(userIds)):\n",
    "            user1_ratings = group_ratings.loc[userIds[i]].dropna()\n",
    "            user2_ratings = group_ratings.loc[userIds[j]].dropna()\n",
    "            common_ratings = user1_ratings.index.intersection(user2_ratings.index)\n",
    "            if len(common_ratings) >= 2:\n",
    "                similarity, _ = pearsonr(user1_ratings[common_ratings], user2_ratings[common_ratings])\n",
    "                similarity_scores.append(similarity)\n",
    "            else:\n",
    "                similarity_scores.append(0)\n",
    "\n",
    "    # Average the pairwise similarity scores to get a single similarity score for the group\n",
    "    group_similarity = np.mean(similarity_scores)\n",
    "\n",
    "    # Should be in range 0 - 1 \n",
    "    group_similarity =  (group_similarity + 1) / 2\n",
    "\n",
    "    return group_similarity\n",
    "\n",
    "def calculate_user_satisfaction(userId, all_users_ratings_copy, group_recommendation, numberOfRecommendations=10): \n",
    "    # Top N ratings the user has given\n",
    "    user_ratings = all_users_ratings_copy.loc[userId].sort_values(ascending=False).head(numberOfRecommendations)\n",
    "\n",
    "    # Convert the index of group_recommendation to a list of integers\n",
    "    group_recommendation_index = group_recommendation.head(numberOfRecommendations).index.tolist()\n",
    "\n",
    "    # Sum the scores by getting IDs from group recommendation and using ratings dataframe\n",
    "    group_list_sat = all_users_ratings_copy.loc[userId, group_recommendation_index].sum()\n",
    "\n",
    "    user_list_sat = user_ratings.sum()\n",
    "\n",
    "    # Calculate the user satisfaction\n",
    "    return group_list_sat / user_list_sat\n",
    "\n",
    "\n",
    "def sequential_group_recommendation(userIds, all_users_ratings, useFullDataset=True, numberOfRecommendations=10, numberOfIterations=10, explicit_strategy=None):\n",
    "    # Get the copy of the ratings dataframe\n",
    "    all_users_ratings_copy = all_users_ratings.copy()\n",
    "\n",
    "    # Final recommendations\n",
    "    all_recommendations = []\n",
    "    # User satisfactions\n",
    "    user_satisfactions = pd.DataFrame(index=userIds, columns=range(numberOfIterations))\n",
    "    # Group recommendation satisfaction\n",
    "    group_recommendation_satisfaction = []\n",
    "\n",
    "    # Calculate the group similarity for the first iteration\n",
    "    group_similarity = calculate_group_similarity(userIds, all_users_ratings_copy)\n",
    "\n",
    "    for i in range(numberOfIterations):\n",
    "        # Get satisfaction from previous iteration\n",
    "        previous_satisfaction = user_satisfactions[i - 1] if i > 0 else None\n",
    "\n",
    "        # Calculate the hybrid weight and satisfaction difference\n",
    "        if previous_satisfaction is not None:\n",
    "            satisfaction_difference = previous_satisfaction.max() - previous_satisfaction.min()\n",
    "        else:\n",
    "            # If there is no previous satisfaction, use the group similarity\n",
    "            # The more similar the group is the more we want to use the average strategy for the first iteration\n",
    "            satisfaction_difference = 1 - group_similarity\n",
    "\n",
    "        # Choose the strategy based on the explicit_strategy parameter or satisfaction difference\n",
    "        if explicit_strategy is not None:\n",
    "            strategy = explicit_strategy\n",
    "        elif satisfaction_difference is not None:\n",
    "            if satisfaction_difference > high_threshold:\n",
    "                strategy = 'fairness'\n",
    "            elif satisfaction_difference < low_threshold:\n",
    "                strategy = 'average'\n",
    "            else:\n",
    "                strategy = 'hybrid'\n",
    "        else:\n",
    "            strategy = 'average'\n",
    "\n",
    "        # Get the group recommendation using the chosen strategy\n",
    "        group_recommendation = group_rating_prediction(userIds, all_users_ratings_copy, useFullDataset=useFullDataset, hybrid_weight=satisfaction_difference, strategy=strategy)\n",
    "\n",
    "        # Get the top 10 recommendations and add them\n",
    "        recommendations = group_recommendation.head(numberOfRecommendations).index.tolist()\n",
    "\n",
    "        # Add the recommendations to the final recommendations\n",
    "        all_recommendations.append(recommendations)\n",
    "\n",
    "        # Calculate the user satisfaction using the calculate_user_satisfaction function\n",
    "        for userId in userIds:\n",
    "            user_satisfactions.loc[userId, i] = calculate_user_satisfaction(userId, all_users_ratings_copy, group_recommendation, numberOfRecommendations=numberOfRecommendations)\n",
    "\n",
    "        # Store the group satisfaction for this iteration\n",
    "        group_satisfaction = user_satisfactions[i].mean()\n",
    "        group_recommendation_satisfaction.append(group_satisfaction)\n",
    "\n",
    "        # Calculate the recommendation sequence satisfaction\n",
    "        sequence_satisfaction = np.mean(group_recommendation_satisfaction)\n",
    "        # Remove recommended movies from the copy of the ratings dataframe\n",
    "        all_users_ratings_copy = all_users_ratings_copy.drop(group_recommendation.head(numberOfRecommendations).index.tolist(), axis=1, errors='ignore')\n",
    "\n",
    "    return all_recommendations, user_satisfactions, group_recommendation_satisfaction, sequence_satisfaction"
   ]
  },
  {
   "cell_type": "markdown",
   "metadata": {},
   "source": [
    "<h5>Explanation and clarification on the chosen method</h5>"
   ]
  },
  {
   "cell_type": "markdown",
   "metadata": {},
   "source": [
    "The main advantage of the chosen method is dynamic strategy selection and possibility to configure tresholds for it. It allows the recommendation system to adapt to the group's satisfaction level. This is done by calculating the satisfaction difference between the most and least satisfied users in the previous iteration, and then choosing a recommendation strategy based on this difference.\n",
    "\n",
    "If the satisfaction difference is high, the 'fairness' strategy is chosen to balance the satisfaction levels of all users. This strategy is designed to avoid favoring some users over others, which can be particularly useful when there's a large disparity in satisfaction levels within the group.\n",
    "\n",
    "If the satisfaction difference is low, the 'average' strategy is chosen to focus on the general consensus of the group. This strategy can be beneficial when the group's satisfaction levels are already balanced, as it aims to maximize the overall group satisfaction.\n",
    "\n",
    "If the satisfaction difference is moderate, the 'hybrid' strategy is chosen to provide a balance between the 'average' and 'fairness' strategies. This strategy can provide a good compromise when there's a moderate disparity in satisfaction levels within the group.\n",
    "\n",
    "By dynamically selecting the recommendation strategy based on the group's satisfaction level, the function can adapt to the group's needs and potentially improve the quality of the recommendations. This makes the recommendation system more flexible and responsive, which can lead to higher user satisfaction."
   ]
  },
  {
   "cell_type": "markdown",
   "metadata": {},
   "source": [
    "<h5>Produce a group of 3 users, and for this group, show the top-10 recommendations in 3\n",
    "different sequences, i.e., the 10 movies with the highest prediction scores in 3 rounds,\n",
    "using the MovieLens 100K rating dataset (Score: 5%). </h5>"
   ]
  },
  {
   "cell_type": "code",
   "execution_count": 241,
   "metadata": {},
   "outputs": [
    {
     "name": "stderr",
     "output_type": "stream",
     "text": [
      "/home/dmitrii/.local/lib/python3.10/site-packages/numpy/lib/function_base.py:2897: RuntimeWarning: invalid value encountered in divide\n",
      "  c /= stddev[:, None]\n",
      "/home/dmitrii/.local/lib/python3.10/site-packages/numpy/lib/function_base.py:2898: RuntimeWarning: invalid value encountered in divide\n",
      "  c /= stddev[None, :]\n"
     ]
    },
    {
     "name": "stderr",
     "output_type": "stream",
     "text": [
      "/home/dmitrii/.local/lib/python3.10/site-packages/numpy/lib/function_base.py:2897: RuntimeWarning: invalid value encountered in divide\n",
      "  c /= stddev[:, None]\n",
      "/home/dmitrii/.local/lib/python3.10/site-packages/numpy/lib/function_base.py:2898: RuntimeWarning: invalid value encountered in divide\n",
      "  c /= stddev[None, :]\n",
      "/home/dmitrii/.local/lib/python3.10/site-packages/numpy/lib/function_base.py:2897: RuntimeWarning: invalid value encountered in divide\n",
      "  c /= stddev[:, None]\n",
      "/home/dmitrii/.local/lib/python3.10/site-packages/numpy/lib/function_base.py:2898: RuntimeWarning: invalid value encountered in divide\n",
      "  c /= stddev[None, :]\n"
     ]
    }
   ],
   "source": [
    "# Calculate satisfaction for a given group recommendation\n",
    "userIds = [3, 8, 12]\n",
    "numberOfIteration = 3\n",
    "\n",
    "(\n",
    "    recommendations,\n",
    "    user_satisfactions,\n",
    "    group_satisfaction,\n",
    "    sequence_satisfaction,\n",
    ") = sequential_group_recommendation(\n",
    "    userIds,\n",
    "    ratings_by_users,\n",
    "    useFullDataset=True,\n",
    "    numberOfRecommendations=10,\n",
    "    numberOfIterations=numberOfIteration,\n",
    ")\n"
   ]
  },
  {
   "cell_type": "markdown",
   "metadata": {},
   "source": [
    "Recommended movies per iteration"
   ]
  },
  {
   "cell_type": "code",
   "execution_count": 242,
   "metadata": {},
   "outputs": [
    {
     "data": {
      "text/plain": [
       "[[3703, 2288, 296, 5746, 5181, 6835, 5919, 7899, 5764, 1587],\n",
       " [1275, 4518, 849, 150, 2851, 1265, 1371, 3024, 593, 47],\n",
       " [26409, 7991, 380, 50, 3967, 318, 2105, 32, 590, 1357]]"
      ]
     },
     "execution_count": 242,
     "metadata": {},
     "output_type": "execute_result"
    }
   ],
   "source": [
    "recommendations"
   ]
  },
  {
   "cell_type": "markdown",
   "metadata": {},
   "source": [
    "User satisfactions per iteration"
   ]
  },
  {
   "cell_type": "code",
   "execution_count": 243,
   "metadata": {},
   "outputs": [
    {
     "data": {
      "text/html": [
       "<div>\n",
       "<style scoped>\n",
       "    .dataframe tbody tr th:only-of-type {\n",
       "        vertical-align: middle;\n",
       "    }\n",
       "\n",
       "    .dataframe tbody tr th {\n",
       "        vertical-align: top;\n",
       "    }\n",
       "\n",
       "    .dataframe thead th {\n",
       "        text-align: right;\n",
       "    }\n",
       "</style>\n",
       "<table border=\"1\" class=\"dataframe\">\n",
       "  <thead>\n",
       "    <tr style=\"text-align: right;\">\n",
       "      <th></th>\n",
       "      <th>0</th>\n",
       "      <th>1</th>\n",
       "      <th>2</th>\n",
       "    </tr>\n",
       "  </thead>\n",
       "  <tbody>\n",
       "    <tr>\n",
       "      <th>3</th>\n",
       "      <td>0.85</td>\n",
       "      <td>0.611765</td>\n",
       "      <td>0.589744</td>\n",
       "    </tr>\n",
       "    <tr>\n",
       "      <th>8</th>\n",
       "      <td>0.08</td>\n",
       "      <td>0.24</td>\n",
       "      <td>0.46</td>\n",
       "    </tr>\n",
       "    <tr>\n",
       "      <th>12</th>\n",
       "      <td>0.0</td>\n",
       "      <td>0.07</td>\n",
       "      <td>0.19</td>\n",
       "    </tr>\n",
       "  </tbody>\n",
       "</table>\n",
       "</div>"
      ],
      "text/plain": [
       "       0         1         2\n",
       "3   0.85  0.611765  0.589744\n",
       "8   0.08      0.24      0.46\n",
       "12   0.0      0.07      0.19"
      ]
     },
     "execution_count": 243,
     "metadata": {},
     "output_type": "execute_result"
    }
   ],
   "source": [
    "user_satisfactions"
   ]
  },
  {
   "cell_type": "markdown",
   "metadata": {},
   "source": [
    "Overall group satisfaction per iteration"
   ]
  },
  {
   "cell_type": "code",
   "execution_count": 244,
   "metadata": {},
   "outputs": [
    {
     "data": {
      "text/plain": [
       "[0.31, 0.30725490196078437, 0.4132478632478633]"
      ]
     },
     "execution_count": 244,
     "metadata": {},
     "output_type": "execute_result"
    }
   ],
   "source": [
    "group_satisfaction"
   ]
  },
  {
   "cell_type": "markdown",
   "metadata": {},
   "source": [
    "Sequence satisfaction"
   ]
  },
  {
   "cell_type": "code",
   "execution_count": 245,
   "metadata": {},
   "outputs": [
    {
     "data": {
      "text/plain": [
       "0.3435009217362159"
      ]
     },
     "execution_count": 245,
     "metadata": {},
     "output_type": "execute_result"
    }
   ],
   "source": [
    "sequence_satisfaction"
   ]
  },
  {
   "cell_type": "markdown",
   "metadata": {},
   "source": [
    "Let's compare with \"average\" strategy"
   ]
  },
  {
   "cell_type": "code",
   "execution_count": 246,
   "metadata": {},
   "outputs": [
    {
     "name": "stderr",
     "output_type": "stream",
     "text": [
      "/home/dmitrii/.local/lib/python3.10/site-packages/numpy/lib/function_base.py:2897: RuntimeWarning: invalid value encountered in divide\n",
      "  c /= stddev[:, None]\n",
      "/home/dmitrii/.local/lib/python3.10/site-packages/numpy/lib/function_base.py:2898: RuntimeWarning: invalid value encountered in divide\n",
      "  c /= stddev[None, :]\n",
      "/home/dmitrii/.local/lib/python3.10/site-packages/numpy/lib/function_base.py:2897: RuntimeWarning: invalid value encountered in divide\n",
      "  c /= stddev[:, None]\n",
      "/home/dmitrii/.local/lib/python3.10/site-packages/numpy/lib/function_base.py:2898: RuntimeWarning: invalid value encountered in divide\n",
      "  c /= stddev[None, :]\n",
      "/home/dmitrii/.local/lib/python3.10/site-packages/numpy/lib/function_base.py:2897: RuntimeWarning: invalid value encountered in divide\n",
      "  c /= stddev[:, None]\n",
      "/home/dmitrii/.local/lib/python3.10/site-packages/numpy/lib/function_base.py:2898: RuntimeWarning: invalid value encountered in divide\n",
      "  c /= stddev[None, :]\n"
     ]
    },
    {
     "data": {
      "text/plain": [
       "0.34978812585780533"
      ]
     },
     "execution_count": 246,
     "metadata": {},
     "output_type": "execute_result"
    }
   ],
   "source": [
    "# Calculate satisfaction for a given group recommendation with explicit strategy\n",
    "(\n",
    "    recommendations,\n",
    "    user_satisfactions,\n",
    "    group_satisfaction,\n",
    "    sequence_satisfaction,\n",
    ") = sequential_group_recommendation(\n",
    "    userIds,\n",
    "    ratings_by_users,\n",
    "    useFullDataset=True,\n",
    "    numberOfRecommendations=10,\n",
    "    numberOfIterations=numberOfIteration,\n",
    "    explicit_strategy='average'\n",
    ")\n",
    "sequence_satisfaction"
   ]
  },
  {
   "cell_type": "markdown",
   "metadata": {},
   "source": [
    "As it can be seen the satisfaction is on the same level, but if we add more iterations the dynamic selection system will show better result because with the decreasing number of movies it will be adapting better. Let's try to compare it with average and least misery"
   ]
  },
  {
   "cell_type": "code",
   "execution_count": 247,
   "metadata": {},
   "outputs": [
    {
     "name": "stderr",
     "output_type": "stream",
     "text": [
      "/home/dmitrii/.local/lib/python3.10/site-packages/numpy/lib/function_base.py:2897: RuntimeWarning: invalid value encountered in divide\n",
      "  c /= stddev[:, None]\n",
      "/home/dmitrii/.local/lib/python3.10/site-packages/numpy/lib/function_base.py:2898: RuntimeWarning: invalid value encountered in divide\n",
      "  c /= stddev[None, :]\n",
      "/home/dmitrii/.local/lib/python3.10/site-packages/numpy/lib/function_base.py:2897: RuntimeWarning: invalid value encountered in divide\n",
      "  c /= stddev[:, None]\n",
      "/home/dmitrii/.local/lib/python3.10/site-packages/numpy/lib/function_base.py:2898: RuntimeWarning: invalid value encountered in divide\n",
      "  c /= stddev[None, :]\n",
      "/home/dmitrii/.local/lib/python3.10/site-packages/numpy/lib/function_base.py:2897: RuntimeWarning: invalid value encountered in divide\n",
      "  c /= stddev[:, None]\n",
      "/home/dmitrii/.local/lib/python3.10/site-packages/numpy/lib/function_base.py:2898: RuntimeWarning: invalid value encountered in divide\n",
      "  c /= stddev[None, :]\n",
      "/home/dmitrii/.local/lib/python3.10/site-packages/numpy/lib/function_base.py:2897: RuntimeWarning: invalid value encountered in divide\n",
      "  c /= stddev[:, None]\n",
      "/home/dmitrii/.local/lib/python3.10/site-packages/numpy/lib/function_base.py:2898: RuntimeWarning: invalid value encountered in divide\n",
      "  c /= stddev[None, :]\n",
      "/home/dmitrii/.local/lib/python3.10/site-packages/numpy/lib/function_base.py:2897: RuntimeWarning: invalid value encountered in divide\n",
      "  c /= stddev[:, None]\n",
      "/home/dmitrii/.local/lib/python3.10/site-packages/numpy/lib/function_base.py:2898: RuntimeWarning: invalid value encountered in divide\n",
      "  c /= stddev[None, :]\n",
      "/home/dmitrii/.local/lib/python3.10/site-packages/numpy/lib/function_base.py:2897: RuntimeWarning: invalid value encountered in divide\n",
      "  c /= stddev[:, None]\n",
      "/home/dmitrii/.local/lib/python3.10/site-packages/numpy/lib/function_base.py:2898: RuntimeWarning: invalid value encountered in divide\n",
      "  c /= stddev[None, :]\n",
      "/home/dmitrii/.local/lib/python3.10/site-packages/numpy/lib/function_base.py:2897: RuntimeWarning: invalid value encountered in divide\n",
      "  c /= stddev[:, None]\n",
      "/home/dmitrii/.local/lib/python3.10/site-packages/numpy/lib/function_base.py:2898: RuntimeWarning: invalid value encountered in divide\n",
      "  c /= stddev[None, :]\n",
      "/home/dmitrii/.local/lib/python3.10/site-packages/numpy/lib/function_base.py:2897: RuntimeWarning: invalid value encountered in divide\n",
      "  c /= stddev[:, None]\n",
      "/home/dmitrii/.local/lib/python3.10/site-packages/numpy/lib/function_base.py:2898: RuntimeWarning: invalid value encountered in divide\n",
      "  c /= stddev[None, :]\n",
      "/home/dmitrii/.local/lib/python3.10/site-packages/numpy/lib/function_base.py:2897: RuntimeWarning: invalid value encountered in divide\n",
      "  c /= stddev[:, None]\n",
      "/home/dmitrii/.local/lib/python3.10/site-packages/numpy/lib/function_base.py:2898: RuntimeWarning: invalid value encountered in divide\n",
      "  c /= stddev[None, :]\n",
      "/home/dmitrii/.local/lib/python3.10/site-packages/numpy/lib/function_base.py:2897: RuntimeWarning: invalid value encountered in divide\n",
      "  c /= stddev[:, None]\n",
      "/home/dmitrii/.local/lib/python3.10/site-packages/numpy/lib/function_base.py:2898: RuntimeWarning: invalid value encountered in divide\n",
      "  c /= stddev[None, :]\n",
      "/home/dmitrii/.local/lib/python3.10/site-packages/numpy/lib/function_base.py:2897: RuntimeWarning: invalid value encountered in divide\n",
      "  c /= stddev[:, None]\n",
      "/home/dmitrii/.local/lib/python3.10/site-packages/numpy/lib/function_base.py:2898: RuntimeWarning: invalid value encountered in divide\n",
      "  c /= stddev[None, :]\n",
      "/home/dmitrii/.local/lib/python3.10/site-packages/numpy/lib/function_base.py:2897: RuntimeWarning: invalid value encountered in divide\n",
      "  c /= stddev[:, None]\n",
      "/home/dmitrii/.local/lib/python3.10/site-packages/numpy/lib/function_base.py:2898: RuntimeWarning: invalid value encountered in divide\n",
      "  c /= stddev[None, :]\n"
     ]
    }
   ],
   "source": [
    "# Calculate satisfaction for a given group recommendation\n",
    "userIds = [3, 8, 12]\n",
    "numberOfIteration = 4\n",
    "\n",
    "(\n",
    "    dynamic_recommendations,\n",
    "    dynamic_user_satisfactions,\n",
    "    dynamic_group_satisfaction,\n",
    "    dynamic_sequence_satisfaction,\n",
    ") = sequential_group_recommendation(\n",
    "    userIds,\n",
    "    ratings_by_users,\n",
    "    useFullDataset=True,\n",
    "    numberOfRecommendations=10,\n",
    "    numberOfIterations=numberOfIteration,\n",
    ")\n",
    "\n",
    "(\n",
    "    average_recommendations,\n",
    "    average_user_satisfactions,\n",
    "    average_group_satisfaction,\n",
    "    average_sequence_satisfaction,\n",
    ") = sequential_group_recommendation(\n",
    "    userIds,\n",
    "    ratings_by_users,\n",
    "    useFullDataset=True,\n",
    "    numberOfRecommendations=10,\n",
    "    numberOfIterations=numberOfIteration,\n",
    "    explicit_strategy='average'\n",
    ")\n",
    "\n",
    "# Least misery\n",
    "(\n",
    "    least_misery_recommendations,\n",
    "    least_misery_user_satisfactions,\n",
    "    least_misery_group_satisfaction,\n",
    "    least_misery_sequence_satisfaction,\n",
    ") = sequential_group_recommendation(\n",
    "    userIds,\n",
    "    ratings_by_users,\n",
    "    useFullDataset=True,\n",
    "    numberOfRecommendations=10,\n",
    "    numberOfIterations=numberOfIteration,\n",
    "    explicit_strategy='least_misery'\n",
    ")"
   ]
  },
  {
   "cell_type": "code",
   "execution_count": 248,
   "metadata": {},
   "outputs": [
    {
     "name": "stdout",
     "output_type": "stream",
     "text": [
      "Dynamic strategy:\n",
      "0.372900290844496\n",
      "Average strategy:\n",
      "0.33678248633474595\n",
      "Least misery strategy:\n",
      "0.3074074373339079\n"
     ]
    }
   ],
   "source": [
    "# Print all the satisfaction values\n",
    "print('Dynamic strategy:', dynamic_sequence_satisfaction, 'Average strategy:', average_sequence_satisfaction, 'Least misery strategy:', least_misery_sequence_satisfaction, sep='\\n')"
   ]
  },
  {
   "cell_type": "markdown",
   "metadata": {},
   "source": [
    "As it was expected the dynamic strategy is performing better with the increasing number of iterations"
   ]
  }
 ],
 "metadata": {
  "kernelspec": {
   "display_name": "Python 3 (ipykernel)",
   "language": "python",
   "name": "python3"
  },
  "language_info": {
   "codemirror_mode": {
    "name": "ipython",
    "version": 3
   },
   "file_extension": ".py",
   "mimetype": "text/x-python",
   "name": "python",
   "nbconvert_exporter": "python",
   "pygments_lexer": "ipython3",
   "version": "3.10.12"
  }
 },
 "nbformat": 4,
 "nbformat_minor": 5
}
