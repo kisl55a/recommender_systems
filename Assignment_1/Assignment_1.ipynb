{
 "cells": [
  {
   "cell_type": "markdown",
   "metadata": {},
   "source": [
    "<h1>Assignment 1</h1>"
   ]
  },
  {
   "cell_type": "code",
   "execution_count": 1,
   "id": "5f09fe1c-ed04-49d6-b6d2-1333a896d2e8",
   "metadata": {},
   "outputs": [],
   "source": [
    "import os\n",
    "import pandas as pd\n",
    "import numpy as np\n",
    "\n",
    "LINKS_PATH = os.path.join(os.getcwd(), 'movie', 'links.csv')\n",
    "TAGS_PATH = os.path.join(os.getcwd(), 'movie', 'tags.csv')\n",
    "MOVIES_PATH = os.path.join(os.getcwd(), 'movie', 'movies.csv')\n",
    "RATINGS_PATH = os.path.join(os.getcwd(), 'movie', 'ratings.csv')\n",
    "\n",
    "def load_data(path):\n",
    "    return pd.read_csv(path)"
   ]
  },
  {
   "cell_type": "markdown",
   "metadata": {},
   "source": [
    "<h4>Loading and analysing data</h4>"
   ]
  },
  {
   "cell_type": "code",
   "execution_count": 2,
   "id": "c6584fea",
   "metadata": {},
   "outputs": [],
   "source": [
    "movies = load_data(MOVIES_PATH)\n",
    "ratings = load_data(RATINGS_PATH)\n",
    "tags = load_data(TAGS_PATH)\n",
    "links = load_data(LINKS_PATH)"
   ]
  },
  {
   "cell_type": "code",
   "execution_count": 3,
   "id": "1ce44212",
   "metadata": {},
   "outputs": [
    {
     "data": {
      "text/html": [
       "<div>\n",
       "<style scoped>\n",
       "    .dataframe tbody tr th:only-of-type {\n",
       "        vertical-align: middle;\n",
       "    }\n",
       "\n",
       "    .dataframe tbody tr th {\n",
       "        vertical-align: top;\n",
       "    }\n",
       "\n",
       "    .dataframe thead th {\n",
       "        text-align: right;\n",
       "    }\n",
       "</style>\n",
       "<table border=\"1\" class=\"dataframe\">\n",
       "  <thead>\n",
       "    <tr style=\"text-align: right;\">\n",
       "      <th></th>\n",
       "      <th>movieId</th>\n",
       "      <th>title</th>\n",
       "      <th>genres</th>\n",
       "    </tr>\n",
       "  </thead>\n",
       "  <tbody>\n",
       "    <tr>\n",
       "      <th>0</th>\n",
       "      <td>1</td>\n",
       "      <td>Toy Story (1995)</td>\n",
       "      <td>Adventure|Animation|Children|Comedy|Fantasy</td>\n",
       "    </tr>\n",
       "    <tr>\n",
       "      <th>1</th>\n",
       "      <td>2</td>\n",
       "      <td>Jumanji (1995)</td>\n",
       "      <td>Adventure|Children|Fantasy</td>\n",
       "    </tr>\n",
       "    <tr>\n",
       "      <th>2</th>\n",
       "      <td>3</td>\n",
       "      <td>Grumpier Old Men (1995)</td>\n",
       "      <td>Comedy|Romance</td>\n",
       "    </tr>\n",
       "    <tr>\n",
       "      <th>3</th>\n",
       "      <td>4</td>\n",
       "      <td>Waiting to Exhale (1995)</td>\n",
       "      <td>Comedy|Drama|Romance</td>\n",
       "    </tr>\n",
       "    <tr>\n",
       "      <th>4</th>\n",
       "      <td>5</td>\n",
       "      <td>Father of the Bride Part II (1995)</td>\n",
       "      <td>Comedy</td>\n",
       "    </tr>\n",
       "  </tbody>\n",
       "</table>\n",
       "</div>"
      ],
      "text/plain": [
       "   movieId                               title   \n",
       "0        1                    Toy Story (1995)  \\\n",
       "1        2                      Jumanji (1995)   \n",
       "2        3             Grumpier Old Men (1995)   \n",
       "3        4            Waiting to Exhale (1995)   \n",
       "4        5  Father of the Bride Part II (1995)   \n",
       "\n",
       "                                        genres  \n",
       "0  Adventure|Animation|Children|Comedy|Fantasy  \n",
       "1                   Adventure|Children|Fantasy  \n",
       "2                               Comedy|Romance  \n",
       "3                         Comedy|Drama|Romance  \n",
       "4                                       Comedy  "
      ]
     },
     "execution_count": 3,
     "metadata": {},
     "output_type": "execute_result"
    }
   ],
   "source": [
    "movies.head()"
   ]
  },
  {
   "cell_type": "code",
   "execution_count": 4,
   "id": "dd83225d",
   "metadata": {},
   "outputs": [
    {
     "data": {
      "text/html": [
       "<div>\n",
       "<style scoped>\n",
       "    .dataframe tbody tr th:only-of-type {\n",
       "        vertical-align: middle;\n",
       "    }\n",
       "\n",
       "    .dataframe tbody tr th {\n",
       "        vertical-align: top;\n",
       "    }\n",
       "\n",
       "    .dataframe thead th {\n",
       "        text-align: right;\n",
       "    }\n",
       "</style>\n",
       "<table border=\"1\" class=\"dataframe\">\n",
       "  <thead>\n",
       "    <tr style=\"text-align: right;\">\n",
       "      <th></th>\n",
       "      <th>userId</th>\n",
       "      <th>movieId</th>\n",
       "      <th>rating</th>\n",
       "      <th>timestamp</th>\n",
       "    </tr>\n",
       "  </thead>\n",
       "  <tbody>\n",
       "    <tr>\n",
       "      <th>0</th>\n",
       "      <td>1</td>\n",
       "      <td>1</td>\n",
       "      <td>4.0</td>\n",
       "      <td>964982703</td>\n",
       "    </tr>\n",
       "    <tr>\n",
       "      <th>1</th>\n",
       "      <td>1</td>\n",
       "      <td>3</td>\n",
       "      <td>4.0</td>\n",
       "      <td>964981247</td>\n",
       "    </tr>\n",
       "    <tr>\n",
       "      <th>2</th>\n",
       "      <td>1</td>\n",
       "      <td>6</td>\n",
       "      <td>4.0</td>\n",
       "      <td>964982224</td>\n",
       "    </tr>\n",
       "    <tr>\n",
       "      <th>3</th>\n",
       "      <td>1</td>\n",
       "      <td>47</td>\n",
       "      <td>5.0</td>\n",
       "      <td>964983815</td>\n",
       "    </tr>\n",
       "    <tr>\n",
       "      <th>4</th>\n",
       "      <td>1</td>\n",
       "      <td>50</td>\n",
       "      <td>5.0</td>\n",
       "      <td>964982931</td>\n",
       "    </tr>\n",
       "  </tbody>\n",
       "</table>\n",
       "</div>"
      ],
      "text/plain": [
       "   userId  movieId  rating  timestamp\n",
       "0       1        1     4.0  964982703\n",
       "1       1        3     4.0  964981247\n",
       "2       1        6     4.0  964982224\n",
       "3       1       47     5.0  964983815\n",
       "4       1       50     5.0  964982931"
      ]
     },
     "execution_count": 4,
     "metadata": {},
     "output_type": "execute_result"
    }
   ],
   "source": [
    "ratings.head()"
   ]
  },
  {
   "cell_type": "markdown",
   "metadata": {},
   "source": [
    "<h2>Task 1</h2>\n",
    "\n",
    "<p>Read the\n",
    "dataset, display the rst few rows to understand it, and display the count of ratings (rows)\n",
    "in the dataset to be sure that you download it correctly.</p>"
   ]
  },
  {
   "cell_type": "code",
   "execution_count": 5,
   "metadata": {},
   "outputs": [
    {
     "data": {
      "text/plain": [
       "(100836, 4)"
      ]
     },
     "execution_count": 5,
     "metadata": {},
     "output_type": "execute_result"
    }
   ],
   "source": [
    "ratings.shape"
   ]
  },
  {
   "cell_type": "code",
   "execution_count": 6,
   "metadata": {},
   "outputs": [
    {
     "data": {
      "text/html": [
       "<div>\n",
       "<style scoped>\n",
       "    .dataframe tbody tr th:only-of-type {\n",
       "        vertical-align: middle;\n",
       "    }\n",
       "\n",
       "    .dataframe tbody tr th {\n",
       "        vertical-align: top;\n",
       "    }\n",
       "\n",
       "    .dataframe thead th {\n",
       "        text-align: right;\n",
       "    }\n",
       "</style>\n",
       "<table border=\"1\" class=\"dataframe\">\n",
       "  <thead>\n",
       "    <tr style=\"text-align: right;\">\n",
       "      <th></th>\n",
       "      <th>userId</th>\n",
       "      <th>movieId</th>\n",
       "      <th>rating</th>\n",
       "      <th>timestamp</th>\n",
       "    </tr>\n",
       "  </thead>\n",
       "  <tbody>\n",
       "    <tr>\n",
       "      <th>0</th>\n",
       "      <td>1</td>\n",
       "      <td>1</td>\n",
       "      <td>4.0</td>\n",
       "      <td>964982703</td>\n",
       "    </tr>\n",
       "    <tr>\n",
       "      <th>1</th>\n",
       "      <td>1</td>\n",
       "      <td>3</td>\n",
       "      <td>4.0</td>\n",
       "      <td>964981247</td>\n",
       "    </tr>\n",
       "    <tr>\n",
       "      <th>2</th>\n",
       "      <td>1</td>\n",
       "      <td>6</td>\n",
       "      <td>4.0</td>\n",
       "      <td>964982224</td>\n",
       "    </tr>\n",
       "    <tr>\n",
       "      <th>3</th>\n",
       "      <td>1</td>\n",
       "      <td>47</td>\n",
       "      <td>5.0</td>\n",
       "      <td>964983815</td>\n",
       "    </tr>\n",
       "    <tr>\n",
       "      <th>4</th>\n",
       "      <td>1</td>\n",
       "      <td>50</td>\n",
       "      <td>5.0</td>\n",
       "      <td>964982931</td>\n",
       "    </tr>\n",
       "  </tbody>\n",
       "</table>\n",
       "</div>"
      ],
      "text/plain": [
       "   userId  movieId  rating  timestamp\n",
       "0       1        1     4.0  964982703\n",
       "1       1        3     4.0  964981247\n",
       "2       1        6     4.0  964982224\n",
       "3       1       47     5.0  964983815\n",
       "4       1       50     5.0  964982931"
      ]
     },
     "execution_count": 6,
     "metadata": {},
     "output_type": "execute_result"
    }
   ],
   "source": [
    "ratings.head()"
   ]
  },
  {
   "cell_type": "markdown",
   "metadata": {},
   "source": [
    "To prepare the data for further analysis, we need to transform it into an appropriate format. In this case, we will be transforming the data into a user-item matrix. This will allow us to calculate the similarity between users and recommend items to users based on their similarity to other users."
   ]
  },
  {
   "cell_type": "code",
   "execution_count": 7,
   "id": "b5278137",
   "metadata": {},
   "outputs": [],
   "source": [
    "# Copying the ratings dataframe to a new dataframe for further processing\n",
    "movie_ratings = ratings.copy()"
   ]
  },
  {
   "cell_type": "code",
   "execution_count": 8,
   "metadata": {},
   "outputs": [
    {
     "data": {
      "text/html": [
       "<div>\n",
       "<style scoped>\n",
       "    .dataframe tbody tr th:only-of-type {\n",
       "        vertical-align: middle;\n",
       "    }\n",
       "\n",
       "    .dataframe tbody tr th {\n",
       "        vertical-align: top;\n",
       "    }\n",
       "\n",
       "    .dataframe thead th {\n",
       "        text-align: right;\n",
       "    }\n",
       "</style>\n",
       "<table border=\"1\" class=\"dataframe\">\n",
       "  <thead>\n",
       "    <tr style=\"text-align: right;\">\n",
       "      <th>movieId</th>\n",
       "      <th>1</th>\n",
       "      <th>2</th>\n",
       "      <th>3</th>\n",
       "      <th>4</th>\n",
       "      <th>5</th>\n",
       "      <th>6</th>\n",
       "      <th>7</th>\n",
       "      <th>8</th>\n",
       "      <th>9</th>\n",
       "      <th>10</th>\n",
       "      <th>...</th>\n",
       "      <th>193565</th>\n",
       "      <th>193567</th>\n",
       "      <th>193571</th>\n",
       "      <th>193573</th>\n",
       "      <th>193579</th>\n",
       "      <th>193581</th>\n",
       "      <th>193583</th>\n",
       "      <th>193585</th>\n",
       "      <th>193587</th>\n",
       "      <th>193609</th>\n",
       "    </tr>\n",
       "    <tr>\n",
       "      <th>userId</th>\n",
       "      <th></th>\n",
       "      <th></th>\n",
       "      <th></th>\n",
       "      <th></th>\n",
       "      <th></th>\n",
       "      <th></th>\n",
       "      <th></th>\n",
       "      <th></th>\n",
       "      <th></th>\n",
       "      <th></th>\n",
       "      <th></th>\n",
       "      <th></th>\n",
       "      <th></th>\n",
       "      <th></th>\n",
       "      <th></th>\n",
       "      <th></th>\n",
       "      <th></th>\n",
       "      <th></th>\n",
       "      <th></th>\n",
       "      <th></th>\n",
       "      <th></th>\n",
       "    </tr>\n",
       "  </thead>\n",
       "  <tbody>\n",
       "    <tr>\n",
       "      <th>1</th>\n",
       "      <td>4.0</td>\n",
       "      <td>NaN</td>\n",
       "      <td>4.0</td>\n",
       "      <td>NaN</td>\n",
       "      <td>NaN</td>\n",
       "      <td>4.0</td>\n",
       "      <td>NaN</td>\n",
       "      <td>NaN</td>\n",
       "      <td>NaN</td>\n",
       "      <td>NaN</td>\n",
       "      <td>...</td>\n",
       "      <td>NaN</td>\n",
       "      <td>NaN</td>\n",
       "      <td>NaN</td>\n",
       "      <td>NaN</td>\n",
       "      <td>NaN</td>\n",
       "      <td>NaN</td>\n",
       "      <td>NaN</td>\n",
       "      <td>NaN</td>\n",
       "      <td>NaN</td>\n",
       "      <td>NaN</td>\n",
       "    </tr>\n",
       "    <tr>\n",
       "      <th>2</th>\n",
       "      <td>NaN</td>\n",
       "      <td>NaN</td>\n",
       "      <td>NaN</td>\n",
       "      <td>NaN</td>\n",
       "      <td>NaN</td>\n",
       "      <td>NaN</td>\n",
       "      <td>NaN</td>\n",
       "      <td>NaN</td>\n",
       "      <td>NaN</td>\n",
       "      <td>NaN</td>\n",
       "      <td>...</td>\n",
       "      <td>NaN</td>\n",
       "      <td>NaN</td>\n",
       "      <td>NaN</td>\n",
       "      <td>NaN</td>\n",
       "      <td>NaN</td>\n",
       "      <td>NaN</td>\n",
       "      <td>NaN</td>\n",
       "      <td>NaN</td>\n",
       "      <td>NaN</td>\n",
       "      <td>NaN</td>\n",
       "    </tr>\n",
       "    <tr>\n",
       "      <th>3</th>\n",
       "      <td>NaN</td>\n",
       "      <td>NaN</td>\n",
       "      <td>NaN</td>\n",
       "      <td>NaN</td>\n",
       "      <td>NaN</td>\n",
       "      <td>NaN</td>\n",
       "      <td>NaN</td>\n",
       "      <td>NaN</td>\n",
       "      <td>NaN</td>\n",
       "      <td>NaN</td>\n",
       "      <td>...</td>\n",
       "      <td>NaN</td>\n",
       "      <td>NaN</td>\n",
       "      <td>NaN</td>\n",
       "      <td>NaN</td>\n",
       "      <td>NaN</td>\n",
       "      <td>NaN</td>\n",
       "      <td>NaN</td>\n",
       "      <td>NaN</td>\n",
       "      <td>NaN</td>\n",
       "      <td>NaN</td>\n",
       "    </tr>\n",
       "    <tr>\n",
       "      <th>4</th>\n",
       "      <td>NaN</td>\n",
       "      <td>NaN</td>\n",
       "      <td>NaN</td>\n",
       "      <td>NaN</td>\n",
       "      <td>NaN</td>\n",
       "      <td>NaN</td>\n",
       "      <td>NaN</td>\n",
       "      <td>NaN</td>\n",
       "      <td>NaN</td>\n",
       "      <td>NaN</td>\n",
       "      <td>...</td>\n",
       "      <td>NaN</td>\n",
       "      <td>NaN</td>\n",
       "      <td>NaN</td>\n",
       "      <td>NaN</td>\n",
       "      <td>NaN</td>\n",
       "      <td>NaN</td>\n",
       "      <td>NaN</td>\n",
       "      <td>NaN</td>\n",
       "      <td>NaN</td>\n",
       "      <td>NaN</td>\n",
       "    </tr>\n",
       "    <tr>\n",
       "      <th>5</th>\n",
       "      <td>4.0</td>\n",
       "      <td>NaN</td>\n",
       "      <td>NaN</td>\n",
       "      <td>NaN</td>\n",
       "      <td>NaN</td>\n",
       "      <td>NaN</td>\n",
       "      <td>NaN</td>\n",
       "      <td>NaN</td>\n",
       "      <td>NaN</td>\n",
       "      <td>NaN</td>\n",
       "      <td>...</td>\n",
       "      <td>NaN</td>\n",
       "      <td>NaN</td>\n",
       "      <td>NaN</td>\n",
       "      <td>NaN</td>\n",
       "      <td>NaN</td>\n",
       "      <td>NaN</td>\n",
       "      <td>NaN</td>\n",
       "      <td>NaN</td>\n",
       "      <td>NaN</td>\n",
       "      <td>NaN</td>\n",
       "    </tr>\n",
       "  </tbody>\n",
       "</table>\n",
       "<p>5 rows × 9724 columns</p>\n",
       "</div>"
      ],
      "text/plain": [
       "movieId  1       2       3       4       5       6       7       8        \n",
       "userId                                                                    \n",
       "1           4.0     NaN     4.0     NaN     NaN     4.0     NaN     NaN  \\\n",
       "2           NaN     NaN     NaN     NaN     NaN     NaN     NaN     NaN   \n",
       "3           NaN     NaN     NaN     NaN     NaN     NaN     NaN     NaN   \n",
       "4           NaN     NaN     NaN     NaN     NaN     NaN     NaN     NaN   \n",
       "5           4.0     NaN     NaN     NaN     NaN     NaN     NaN     NaN   \n",
       "\n",
       "movieId  9       10      ...  193565  193567  193571  193573  193579  193581   \n",
       "userId                   ...                                                   \n",
       "1           NaN     NaN  ...     NaN     NaN     NaN     NaN     NaN     NaN  \\\n",
       "2           NaN     NaN  ...     NaN     NaN     NaN     NaN     NaN     NaN   \n",
       "3           NaN     NaN  ...     NaN     NaN     NaN     NaN     NaN     NaN   \n",
       "4           NaN     NaN  ...     NaN     NaN     NaN     NaN     NaN     NaN   \n",
       "5           NaN     NaN  ...     NaN     NaN     NaN     NaN     NaN     NaN   \n",
       "\n",
       "movieId  193583  193585  193587  193609  \n",
       "userId                                   \n",
       "1           NaN     NaN     NaN     NaN  \n",
       "2           NaN     NaN     NaN     NaN  \n",
       "3           NaN     NaN     NaN     NaN  \n",
       "4           NaN     NaN     NaN     NaN  \n",
       "5           NaN     NaN     NaN     NaN  \n",
       "\n",
       "[5 rows x 9724 columns]"
      ]
     },
     "execution_count": 8,
     "metadata": {},
     "output_type": "execute_result"
    }
   ],
   "source": [
    "# Making a pivot table to get the ratings of each movie by each user\n",
    "ratings_by_users = movie_ratings.pivot_table(index='userId', columns='movieId', values='rating', aggfunc='first')\n",
    "ratings_by_users.head()"
   ]
  },
  {
   "cell_type": "markdown",
   "metadata": {},
   "source": [
    "<h2>Task 2 (p. 1)</h2>\n",
    "\n",
    "<p> Implement the user-based collaborative filtering approach, using the Pearson\n",
    "correlation function for computing similarities between users</p>"
   ]
  },
  {
   "cell_type": "code",
   "execution_count": 9,
   "metadata": {},
   "outputs": [],
   "source": [
    "# min_common_percentage = 0.1\n",
    "min_common_items = 10\n",
    "\n",
    "# Implementation of Pearson correlation\n",
    "def get_similarity_between_two_items(user1, user2):\n",
    "    # Find common items\n",
    "    common_items = user1.notna() & user2.notna()\n",
    "    \n",
    "    common_items_count = common_items.sum()\n",
    "    if common_items_count == 0:\n",
    "        return 0  # No common items, no correlation\n",
    "    \n",
    "    # We implement a treshold to avoid meaningless correlations\n",
    "    # Approach 1: Common items percentage\n",
    "    # total_items_user1 = user1.count()\n",
    "    # total_items_user2 = user2.count()\n",
    "    # common_percentage_user1 = common_items_count / total_items_user1\n",
    "    # common_percentage_user2 = common_items_count / total_items_user2\n",
    "    # if common_percentage_user1 < min_common_percentage or common_percentage_user2 < min_common_percentage:\n",
    "    #     return 0  # Not enough common items for a meaningful correlation\n",
    "\n",
    "    # Approach 2: Common items count\n",
    "    if common_items_count < min_common_items:\n",
    "        return 0  # Not enough common items for a meaningful correlation\n",
    "    \n",
    "    # Get the common items\n",
    "    user1_common = user1[common_items]\n",
    "    user2_common = user2[common_items]\n",
    "    \n",
    "    # Pearson correlation requires at least 2 common items\n",
    "    if len(user1_common) < 2:\n",
    "        return 0 \n",
    "    \n",
    "    # Calculate the Pearson correlation coefficient\n",
    "    correlation = user1_common.corr(user2_common)\n",
    "    \n",
    "    if np.isnan(correlation):\n",
    "        return 0  # Handle NaN values\n",
    "    \n",
    "    return correlation\n",
    "\n",
    "# Helper function to find similar users\n",
    "# Returns a series of similarities between the target user and all other users\n",
    "def find_similar_users(user_item_matrix, target_user):\n",
    "    # Calculate the Pearson correlation between the target user and all other users\n",
    "    similarities = user_item_matrix.apply(lambda user: get_similarity_between_two_items(user, target_user), axis=1)\n",
    "    return similarities\n",
    "\n",
    "def get_similar_users_by_user_id(user_item_matrix, user_id):\n",
    "    # Get the target user\n",
    "    target_user = user_item_matrix.loc[user_id]\n",
    "    similarities = find_similar_users(user_item_matrix, target_user)\n",
    "    \n",
    "    # Sort users by similarity in descending order\n",
    "    similar_users = similarities.sort_values(ascending=False)\n",
    "    \n",
    "    # Filter out the target user\n",
    "    similar_users = similar_users[similar_users.index != target_user.name]\n",
    "    \n",
    "    # Return the top n similar users\n",
    "    return similar_users"
   ]
  },
  {
   "cell_type": "markdown",
   "metadata": {},
   "source": [
    "<p>Let's test the function and get similar users to the first one</p>"
   ]
  },
  {
   "cell_type": "code",
   "execution_count": 10,
   "id": "a9174c13",
   "metadata": {},
   "outputs": [
    {
     "data": {
      "text/plain": [
       "userId\n",
       "476    0.786936\n",
       "210    0.767649\n",
       "297    0.706281\n",
       "44     0.684448\n",
       "394    0.650600\n",
       "dtype: float64"
      ]
     },
     "execution_count": 10,
     "metadata": {},
     "output_type": "execute_result"
    }
   ],
   "source": [
    "users_similar_to_user_1 = get_similar_users_by_user_id(ratings_by_users, 1)\n",
    "users_similar_to_user_1.head()"
   ]
  },
  {
   "cell_type": "code",
   "execution_count": 11,
   "metadata": {},
   "outputs": [
    {
     "name": "stdout",
     "output_type": "stream",
     "text": [
      "Total items rated by user 1: 232\n",
      "Total items rated by user 2: 69 \n",
      "\n",
      "Common items count: 11 \n",
      "\n"
     ]
    },
    {
     "data": {
      "text/html": [
       "<div>\n",
       "<style scoped>\n",
       "    .dataframe tbody tr th:only-of-type {\n",
       "        vertical-align: middle;\n",
       "    }\n",
       "\n",
       "    .dataframe tbody tr th {\n",
       "        vertical-align: top;\n",
       "    }\n",
       "\n",
       "    .dataframe thead th {\n",
       "        text-align: right;\n",
       "    }\n",
       "</style>\n",
       "<table border=\"1\" class=\"dataframe\">\n",
       "  <thead>\n",
       "    <tr style=\"text-align: right;\">\n",
       "      <th></th>\n",
       "      <th>User 1</th>\n",
       "      <th>User 2</th>\n",
       "    </tr>\n",
       "    <tr>\n",
       "      <th>movieId</th>\n",
       "      <th></th>\n",
       "      <th></th>\n",
       "    </tr>\n",
       "  </thead>\n",
       "  <tbody>\n",
       "    <tr>\n",
       "      <th>1</th>\n",
       "      <td>4.0</td>\n",
       "      <td>4.0</td>\n",
       "    </tr>\n",
       "    <tr>\n",
       "      <th>296</th>\n",
       "      <td>3.0</td>\n",
       "      <td>3.0</td>\n",
       "    </tr>\n",
       "    <tr>\n",
       "      <th>349</th>\n",
       "      <td>4.0</td>\n",
       "      <td>3.0</td>\n",
       "    </tr>\n",
       "    <tr>\n",
       "      <th>356</th>\n",
       "      <td>4.0</td>\n",
       "      <td>5.0</td>\n",
       "    </tr>\n",
       "    <tr>\n",
       "      <th>362</th>\n",
       "      <td>5.0</td>\n",
       "      <td>5.0</td>\n",
       "    </tr>\n",
       "    <tr>\n",
       "      <th>457</th>\n",
       "      <td>5.0</td>\n",
       "      <td>5.0</td>\n",
       "    </tr>\n",
       "    <tr>\n",
       "      <th>480</th>\n",
       "      <td>4.0</td>\n",
       "      <td>4.0</td>\n",
       "    </tr>\n",
       "    <tr>\n",
       "      <th>500</th>\n",
       "      <td>3.0</td>\n",
       "      <td>3.0</td>\n",
       "    </tr>\n",
       "    <tr>\n",
       "      <th>590</th>\n",
       "      <td>4.0</td>\n",
       "      <td>5.0</td>\n",
       "    </tr>\n",
       "    <tr>\n",
       "      <th>592</th>\n",
       "      <td>4.0</td>\n",
       "      <td>4.0</td>\n",
       "    </tr>\n",
       "    <tr>\n",
       "      <th>596</th>\n",
       "      <td>5.0</td>\n",
       "      <td>5.0</td>\n",
       "    </tr>\n",
       "  </tbody>\n",
       "</table>\n",
       "</div>"
      ],
      "text/plain": [
       "         User 1  User 2\n",
       "movieId                \n",
       "1           4.0     4.0\n",
       "296         3.0     3.0\n",
       "349         4.0     3.0\n",
       "356         4.0     5.0\n",
       "362         5.0     5.0\n",
       "457         5.0     5.0\n",
       "480         4.0     4.0\n",
       "500         3.0     3.0\n",
       "590         4.0     5.0\n",
       "592         4.0     4.0\n",
       "596         5.0     5.0"
      ]
     },
     "execution_count": 11,
     "metadata": {},
     "output_type": "execute_result"
    }
   ],
   "source": [
    "\n",
    "# Let's compare the first user ratings with the ratings of the first similar user\n",
    "user_1 = ratings_by_users.loc[1]\n",
    "user_2 = ratings_by_users.loc[476]\n",
    "\n",
    "# Total number of items rated by the first user\n",
    "total_items_user_1 = user_1.count()\n",
    "print('Total items rated by user 1:', total_items_user_1)\n",
    "\n",
    "# Total number of items rated by the second user\n",
    "total_items_user_2 = user_2.count()\n",
    "print('Total items rated by user 2:', total_items_user_2 , '\\n')\n",
    "\n",
    "\n",
    "# Get the items that both users have rated\n",
    "common_items = user_1.notna() & user_2.notna()\n",
    "common_items_count = common_items.sum()\n",
    "print('Common items count:', common_items_count, '\\n')\n",
    "\n",
    "# Get the common items\n",
    "user_1_common = user_1[common_items]\n",
    "user_2_common = user_2[common_items]\n",
    "\n",
    "# Printing the comparison\n",
    "comparison = pd.DataFrame({'User 1': user_1_common, 'User 2': user_2_common})\n",
    "comparison\n"
   ]
  },
  {
   "cell_type": "markdown",
   "metadata": {},
   "source": [
    "<p> As it can be seen the users almost identical (the only difference is in movie with ID 349). So the pearson correlation sorting seems to work quite well and we can filter users by similar movie ratings </p>"
   ]
  },
  {
   "cell_type": "markdown",
   "metadata": {},
   "source": [
    "<h2>Task 2 (p. 2)</h2>\n",
    "\n",
    "<p>The prediction function presented in class for predicting movies scores </p>"
   ]
  },
  {
   "cell_type": "code",
   "execution_count": 12,
   "metadata": {},
   "outputs": [],
   "source": [
    "def predict_rating(user_id, movie_id, ratings_by_users):\n",
    "    # If the user has already rated the movie, return the known rating\n",
    "    if not np.isnan(ratings_by_users.loc[user_id, movie_id]):\n",
    "        return ratings_by_users.loc[user_id, movie_id]\n",
    "\n",
    "    # Get the users who rated the movie\n",
    "    users_who_rated = ratings_by_users[ratings_by_users[movie_id].notna()].index\n",
    "\n",
    "    # Calculate the similarities and the weighted ratings\n",
    "    similarities = [get_similarity_between_two_items(ratings_by_users.loc[user_id], ratings_by_users.loc[other_user_id]) for other_user_id in users_who_rated]\n",
    "    weighted_ratings = [similarity * (ratings_by_users.loc[other_user_id, movie_id] - ratings_by_users.loc[other_user_id].mean()) for other_user_id, similarity in zip(users_who_rated, similarities)]\n",
    "\n",
    "    # If no one else rated the movie, return the mean rating of the user\n",
    "    if sum(similarities) == 0:\n",
    "        return ratings_by_users.loc[user_id].mean()\n",
    "\n",
    "    # Return the weighted average rating\n",
    "    return (sum(weighted_ratings) / sum(similarities)) + ratings_by_users.loc[user_id].mean()\n"
   ]
  },
  {
   "cell_type": "code",
   "execution_count": null,
   "metadata": {},
   "outputs": [],
   "source": []
  },
  {
   "cell_type": "code",
   "execution_count": 13,
   "metadata": {},
   "outputs": [
    {
     "name": "stdout",
     "output_type": "stream",
     "text": [
      "Prediction: 3.903291496799674 \n",
      "\n",
      "Actual rating: 4.0 \n",
      "\n"
     ]
    }
   ],
   "source": [
    "# Actual rating of the first user for the first movie\n",
    "actual_rating = ratings_by_users.loc[1, 3]\n",
    "\n",
    "# Remove the ratings of the first user for the first movie\n",
    "ratings_by_users.loc[1, 3] = np.nan\n",
    "\n",
    "# Predict the rating of the first user for the first movie\n",
    "prediction = predict_rating(1, 3, ratings_by_users)\n",
    "print('Prediction:', prediction, '\\n')\n",
    "print('Actual rating:', actual_rating, '\\n')\n"
   ]
  },
  {
   "cell_type": "code",
   "execution_count": 14,
   "metadata": {},
   "outputs": [],
   "source": [
    "# restore the actual rating of the first user for the first movie\n",
    "ratings_by_users.loc[1, 3] = actual_rating"
   ]
  },
  {
   "cell_type": "markdown",
   "metadata": {},
   "source": [
    "<p>As it can be seen, the predicted value is quite close to the one the user initially had, which proves that the function calculates it correctly</p>"
   ]
  },
  {
   "cell_type": "markdown",
   "metadata": {},
   "source": [
    "<h2>Task 3</h2>\n",
    "\n",
    "<p>Select a user from the dataset, and for this user, show the 10 most similar users and \n",
    "the 10 most relevant movies that the recommender suggests</p>"
   ]
  },
  {
   "cell_type": "code",
   "execution_count": 15,
   "metadata": {},
   "outputs": [
    {
     "name": "stdout",
     "output_type": "stream",
     "text": [
      "10 most similar users for user 1:\n"
     ]
    },
    {
     "data": {
      "text/plain": [
       "userId\n",
       "476    0.786936\n",
       "210    0.767649\n",
       "297    0.706281\n",
       "44     0.684448\n",
       "394    0.650600\n",
       "248    0.624695\n",
       "369    0.612098\n",
       "72     0.596432\n",
       "344    0.587609\n",
       "112    0.583892\n",
       "dtype: float64"
      ]
     },
     "execution_count": 15,
     "metadata": {},
     "output_type": "execute_result"
    }
   ],
   "source": [
    "# Select a user\n",
    "selected_user_id = 1\n",
    "\n",
    "# get the 10 most similar users\n",
    "similar_users_for_selected_user_id = get_similar_users_by_user_id(ratings_by_users, selected_user_id)\n",
    "\n",
    "print(f\"10 most similar users for user {selected_user_id}:\")\n",
    "similar_users_for_selected_user_id.head(10)"
   ]
  },
  {
   "cell_type": "code",
   "execution_count": 16,
   "metadata": {},
   "outputs": [],
   "source": [
    "from tqdm import tqdm\n",
    "\n",
    "\n",
    "def predict_topn_movies_for_user(user_id: int, n: int, ratings_by_users: pd.DataFrame):\n",
    "    # Get the movies that the selected user has not rated\n",
    "    movies_not_rated_by_selected_user = ratings_by_users.loc[user_id].isna()\n",
    "    movie_ids_to_predict = movies_not_rated_by_selected_user[ratings_by_users.loc[user_id].isna()].index\n",
    "\n",
    "    # Predict the ratings for the movies that the selected user has not rated\n",
    "    predictions = {movie_id: predict_rating(user_id, movie_id, ratings_by_users) for movie_id in tqdm(movie_ids_to_predict, desc='Predicting ratings')}\n",
    "\n",
    "    # return the top n predictions\n",
    "    return pd.Series(predictions).sort_values(ascending=False).head(n)"
   ]
  },
  {
   "cell_type": "code",
   "execution_count": 17,
   "metadata": {},
   "outputs": [
    {
     "name": "stderr",
     "output_type": "stream",
     "text": [
      "Predicting ratings:   0%|          | 0/9492 [00:00<?, ?it/s]"
     ]
    },
    {
     "name": "stderr",
     "output_type": "stream",
     "text": [
      "Predicting ratings: 100%|██████████| 9492/9492 [01:07<00:00, 141.35it/s]"
     ]
    },
    {
     "name": "stdout",
     "output_type": "stream",
     "text": [
      "Top 10 recommended movies for user 1:\n"
     ]
    },
    {
     "name": "stderr",
     "output_type": "stream",
     "text": [
      "\n"
     ]
    },
    {
     "data": {
      "text/plain": [
       "129                               Blue in the Face (1995)\n",
       "528     Flower of My Secret, The (La flor de mi secret...\n",
       "574                                     Quest, The (1996)\n",
       "1007                            Female Perversions (1996)\n",
       "1180                         Contempt (Mépris, Le) (1963)\n",
       "1208                            Kull the Conqueror (1997)\n",
       "3284    Way of the Dragon, The (a.k.a. Return of the D...\n",
       "5026            Virgin Spring, The (Jungfrukällan) (1960)\n",
       "5063                      Silence, The (Tystnaden) (1963)\n",
       "7602                                     Incendies (2010)\n",
       "Name: title, dtype: object"
      ]
     },
     "execution_count": 17,
     "metadata": {},
     "output_type": "execute_result"
    }
   ],
   "source": [
    "recommended_movie_ids_ratings = predict_topn_movies_for_user(user_id=1, n=10, ratings_by_users=ratings_by_users)\n",
    "\n",
    "# get movie names by ids\n",
    "recommended_movies = movies[movies['movieId'].isin(recommended_movie_ids_ratings.index)]['title']\n",
    "\n",
    "print(f\"Top 10 recommended movies for user {selected_user_id}:\")\n",
    "recommended_movies"
   ]
  },
  {
   "cell_type": "markdown",
   "metadata": {},
   "source": [
    "<h2>Task 4</h2>\n",
    "\n",
    "<p>Design and implement a new similarity function for computing similarities between \n",
    "users. Explain why this similarity function is useful for the collaborative filtering approach</p>"
   ]
  },
  {
   "cell_type": "code",
   "execution_count": 18,
   "metadata": {},
   "outputs": [],
   "source": [
    "def my_similarity(common_ratings_x: pd.Series, common_ratings_y: pd.Series, user_item_matrix) -> float:\n",
    "    \"\"\"Pearson correlation coefficient with a popularity punishment factor\"\"\"\n",
    "    # get the number of times that each common item has been evaluated\n",
    "    common_item_ids = common_ratings_x.index\n",
    "    common_item_evaluations = user_item_matrix[common_item_ids].count()\n",
    "    common_item_evaluations = np.asarray(common_item_evaluations)\n",
    "\n",
    "    x = np.asarray(common_ratings_x)\n",
    "    y = np.asarray(common_ratings_y)\n",
    "    mx = np.mean(x)\n",
    "    my = np.mean(y)\n",
    "    num = np.sum((x - mx) * (y - my) * (1 / np.log10(10 + common_item_evaluations)))\n",
    "    den = np.sqrt(np.sum((x - mx)**2) * np.sum((y - my)**2))\n",
    "    return num / den\n",
    "    "
   ]
  },
  {
   "cell_type": "code",
   "execution_count": 19,
   "metadata": {},
   "outputs": [
    {
     "name": "stderr",
     "output_type": "stream",
     "text": [
      "/tmp/ipykernel_1761972/3776108088.py:14: RuntimeWarning: invalid value encountered in double_scalars\n",
      "  return num / den\n"
     ]
    },
    {
     "name": "stderr",
     "output_type": "stream",
     "text": [
      "/tmp/ipykernel_1761972/3776108088.py:14: RuntimeWarning: invalid value encountered in double_scalars\n",
      "  return num / den\n"
     ]
    },
    {
     "data": {
      "text/plain": [
       "userId\n",
       "476    0.374672\n",
       "297    0.357948\n",
       "210    0.322911\n",
       "44     0.322154\n",
       "596    0.318165\n",
       "dtype: float64"
      ]
     },
     "execution_count": 19,
     "metadata": {},
     "output_type": "execute_result"
    }
   ],
   "source": [
    "# min_common_percentage = 0.1\n",
    "min_common_items = 10\n",
    "\n",
    "# Implementation of Pearson correlation\n",
    "def get_similarity_between_two_items(user1, user2, user_item_matrix):\n",
    "    # Find common items\n",
    "    common_items = user1.notna() & user2.notna()\n",
    "    \n",
    "    common_items_count = common_items.sum()\n",
    "    if common_items_count == 0:\n",
    "        return 0  # No common items, no correlation\n",
    "    \n",
    "    # We implement a treshold to avoid meaningless correlations\n",
    "    # Approach 1: Common items percentage\n",
    "    # total_items_user1 = user1.count()\n",
    "    # total_items_user2 = user2.count()\n",
    "    # common_percentage_user1 = common_items_count / total_items_user1\n",
    "    # common_percentage_user2 = common_items_count / total_items_user2\n",
    "    # if common_percentage_user1 < min_common_percentage or common_percentage_user2 < min_common_percentage:\n",
    "    #     return 0  # Not enough common items for a meaningful correlation\n",
    "\n",
    "    # Approach 2: Common items count\n",
    "    if common_items_count < min_common_items:\n",
    "        return 0  # Not enough common items for a meaningful correlation\n",
    "    \n",
    "    # Get the common items\n",
    "    user1_common = user1[common_items]\n",
    "    user2_common = user2[common_items]\n",
    "    \n",
    "    # Pearson correlation requires at least 2 common items\n",
    "    if len(user1_common) < 2:\n",
    "        return 0 \n",
    "    \n",
    "    # Calculate the Pearson correlation coefficient\n",
    "    correlation = my_similarity(user1_common, user2_common, user_item_matrix)\n",
    "    \n",
    "    if np.isnan(correlation):\n",
    "        return 0  # Handle NaN values\n",
    "    \n",
    "    return correlation\n",
    "\n",
    "# Helper function to find similar users\n",
    "# Returns a series of similarities between the target user and all other users\n",
    "def find_similar_users(user_item_matrix, target_user):\n",
    "    # Calculate the Pearson correlation between the target user and all other users\n",
    "    similarities = user_item_matrix.apply(lambda user: get_similarity_between_two_items(user, target_user, user_item_matrix), axis=1)\n",
    "    return similarities\n",
    "\n",
    "def get_similar_users_by_user_id(user_item_matrix, user_id):\n",
    "    # Get the target user\n",
    "    target_user = user_item_matrix.loc[user_id]\n",
    "    similarities = find_similar_users(user_item_matrix, target_user)\n",
    "    \n",
    "    # Sort users by similarity in descending order\n",
    "    similar_users = similarities.sort_values(ascending=False)\n",
    "    \n",
    "    # Filter out the target user\n",
    "    similar_users = similar_users[similar_users.index != target_user.name]\n",
    "    \n",
    "    # Return the top n similar users\n",
    "    return similar_users\n",
    "\n",
    "users_similar_to_user_1 = get_similar_users_by_user_id(ratings_by_users, 1)\n",
    "users_similar_to_user_1.head()"
   ]
  },
  {
   "cell_type": "markdown",
   "metadata": {},
   "source": [
    "In conventional recommendation systems, the way similarity is computed doesn't consider the popularity of items that many users have rated. As a result, when users give similar scores to highly popular items like merchandise, movies, or music, the traditional similarity measure can produce a very high similarity score between them. To address this, we introduce a popularity penalty factor into the similarity calculations. This penalty factor is defined as 1/log(10 + N(i)), where N(i) represents the number of times the i-th item has been rated."
   ]
  }
 ],
 "metadata": {
  "kernelspec": {
   "display_name": "Python 3 (ipykernel)",
   "language": "python",
   "name": "python3"
  },
  "language_info": {
   "codemirror_mode": {
    "name": "ipython",
    "version": 3
   },
   "file_extension": ".py",
   "mimetype": "text/x-python",
   "name": "python",
   "nbconvert_exporter": "python",
   "pygments_lexer": "ipython3",
   "version": "3.10.11"
  }
 },
 "nbformat": 4,
 "nbformat_minor": 5
}
