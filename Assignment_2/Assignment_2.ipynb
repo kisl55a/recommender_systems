{
 "cells": [
  {
   "cell_type": "markdown",
   "metadata": {},
   "source": [
    "<h1>Assignment 2</h1>"
   ]
  },
  {
   "cell_type": "code",
   "execution_count": 239,
   "id": "5f09fe1c-ed04-49d6-b6d2-1333a896d2e8",
   "metadata": {},
   "outputs": [],
   "source": [
    "import os\n",
    "import pandas as pd\n",
    "import numpy as np\n",
    "\n",
    "LINKS_PATH = os.path.join(os.getcwd(), 'movie', 'links.csv')\n",
    "TAGS_PATH = os.path.join(os.getcwd(), 'movie', 'tags.csv')\n",
    "MOVIES_PATH = os.path.join(os.getcwd(), 'movie', 'movies.csv')\n",
    "RATINGS_PATH = os.path.join(os.getcwd(), 'movie', 'ratings.csv')\n",
    "\n",
    "def load_data(path):\n",
    "    return pd.read_csv(path)"
   ]
  },
  {
   "cell_type": "markdown",
   "metadata": {},
   "source": [
    "<h4>Loading data</h4>"
   ]
  },
  {
   "cell_type": "code",
   "execution_count": 240,
   "id": "c6584fea",
   "metadata": {},
   "outputs": [],
   "source": [
    "ratings = load_data(RATINGS_PATH)"
   ]
  },
  {
   "cell_type": "code",
   "execution_count": 241,
   "id": "dd83225d",
   "metadata": {},
   "outputs": [
    {
     "data": {
      "text/html": [
       "<div>\n",
       "<style scoped>\n",
       "    .dataframe tbody tr th:only-of-type {\n",
       "        vertical-align: middle;\n",
       "    }\n",
       "\n",
       "    .dataframe tbody tr th {\n",
       "        vertical-align: top;\n",
       "    }\n",
       "\n",
       "    .dataframe thead th {\n",
       "        text-align: right;\n",
       "    }\n",
       "</style>\n",
       "<table border=\"1\" class=\"dataframe\">\n",
       "  <thead>\n",
       "    <tr style=\"text-align: right;\">\n",
       "      <th></th>\n",
       "      <th>userId</th>\n",
       "      <th>movieId</th>\n",
       "      <th>rating</th>\n",
       "      <th>timestamp</th>\n",
       "    </tr>\n",
       "  </thead>\n",
       "  <tbody>\n",
       "    <tr>\n",
       "      <th>0</th>\n",
       "      <td>1</td>\n",
       "      <td>1</td>\n",
       "      <td>4.0</td>\n",
       "      <td>964982703</td>\n",
       "    </tr>\n",
       "    <tr>\n",
       "      <th>1</th>\n",
       "      <td>1</td>\n",
       "      <td>3</td>\n",
       "      <td>4.0</td>\n",
       "      <td>964981247</td>\n",
       "    </tr>\n",
       "    <tr>\n",
       "      <th>2</th>\n",
       "      <td>1</td>\n",
       "      <td>6</td>\n",
       "      <td>4.0</td>\n",
       "      <td>964982224</td>\n",
       "    </tr>\n",
       "    <tr>\n",
       "      <th>3</th>\n",
       "      <td>1</td>\n",
       "      <td>47</td>\n",
       "      <td>5.0</td>\n",
       "      <td>964983815</td>\n",
       "    </tr>\n",
       "    <tr>\n",
       "      <th>4</th>\n",
       "      <td>1</td>\n",
       "      <td>50</td>\n",
       "      <td>5.0</td>\n",
       "      <td>964982931</td>\n",
       "    </tr>\n",
       "  </tbody>\n",
       "</table>\n",
       "</div>"
      ],
      "text/plain": [
       "   userId  movieId  rating  timestamp\n",
       "0       1        1     4.0  964982703\n",
       "1       1        3     4.0  964981247\n",
       "2       1        6     4.0  964982224\n",
       "3       1       47     5.0  964983815\n",
       "4       1       50     5.0  964982931"
      ]
     },
     "execution_count": 241,
     "metadata": {},
     "output_type": "execute_result"
    }
   ],
   "source": [
    "ratings.head()"
   ]
  },
  {
   "cell_type": "markdown",
   "metadata": {},
   "source": [
    "<h2>Part A</h2>\n",
    "\n",
    "<p>1. The first aggregation approach is the average method. The main idea behind this\n",
    "approach is that all members are considered equals. So, the rating of an item for a group\n",
    "of users will be given be averaging the scores of an item across all group members.</p>\n",
    "\n",
    "<p>2. The second aggregation method is the least misery method, where one member can act\n",
    "as a veto for the rest of the group. In this case, the rating of an item for a group of users is\n",
    "computed as the minimum score assigned to that item in all group members\n",
    "recommendations.</p>"
   ]
  },
  {
   "cell_type": "markdown",
   "metadata": {},
   "source": [
    "<p>First let's get helper functions for predicting movie ratings from the previous assignment and prepare data</p>"
   ]
  },
  {
   "cell_type": "code",
   "execution_count": 242,
   "metadata": {},
   "outputs": [],
   "source": [
    "# Helper functions from the previous assignment\n",
    "\n",
    "# min_common_percentage = 0.1\n",
    "min_common_items = 2\n",
    "\n",
    "# Implementation of Pearson correlation\n",
    "def get_similarity_between_two_items(user1, user2):\n",
    "    # Find common items\n",
    "    common_items = user1.notna() & user2.notna()\n",
    "    \n",
    "    common_items_count = common_items.sum()\n",
    "    if common_items_count == 0:\n",
    "        return 0  # No common items, no correlation\n",
    "    \n",
    "    # We implement a treshold to avoid meaningless correlations\n",
    "    # Approach 1: Common items percentage\n",
    "    # total_items_user1 = user1.count()\n",
    "    # total_items_user2 = user2.count()\n",
    "    # common_percentage_user1 = common_items_count / total_items_user1\n",
    "    # common_percentage_user2 = common_items_count / total_items_user2\n",
    "    # if common_percentage_user1 < min_common_percentage or common_percentage_user2 < min_common_percentage:\n",
    "    #     return 0  # Not enough common items for a meaningful correlation\n",
    "\n",
    "    # Approach 2: Common items count\n",
    "    if common_items_count < min_common_items:\n",
    "        return 0  # Not enough common items for a meaningful correlation\n",
    "    \n",
    "    # Get the common items\n",
    "    user1_common = user1[common_items]\n",
    "    user2_common = user2[common_items]\n",
    "    \n",
    "    # Pearson correlation requires at least 2 common items\n",
    "    if len(user1_common) < 2:\n",
    "        return 0 \n",
    "    \n",
    "    # Calculate the Pearson correlation coefficient\n",
    "    correlation = user1_common.corr(user2_common)\n",
    "    \n",
    "    if np.isnan(correlation):\n",
    "        return 0  # Handle NaN values\n",
    "    \n",
    "    return max(correlation, 0)  # Return a non-negative correlation\n",
    "\n",
    "def predict_rating(user_id, movie_id, ratings_by_users):\n",
    "    # If the user has already rated the movie, return the known rating\n",
    "    if not np.isnan(ratings_by_users.loc[user_id, movie_id]):\n",
    "        return ratings_by_users.loc[user_id, movie_id]\n",
    "\n",
    "    # Get the users who rated the movie\n",
    "    users_who_rated = ratings_by_users[ratings_by_users[movie_id].notna()].index\n",
    "\n",
    "    # Calculate the similarities and the weighted ratings\n",
    "    similarities = [get_similarity_between_two_items(ratings_by_users.loc[user_id], ratings_by_users.loc[other_user_id]) for other_user_id in users_who_rated]\n",
    "    weighted_ratings = [similarity * (ratings_by_users.loc[other_user_id, movie_id] - ratings_by_users.loc[other_user_id].mean()) for other_user_id, similarity in zip(users_who_rated, similarities)]\n",
    "\n",
    "    # If no one else rated the movie, return the mean rating of the user\n",
    "    if sum(similarities) == 0:\n",
    "        return ratings_by_users.loc[user_id].mean()\n",
    "\n",
    "    # Return the weighted average rating, ensuring it is within the range of 0 - 5\n",
    "    return max(min((sum(weighted_ratings) / sum(similarities)) + ratings_by_users.loc[user_id].mean(), 5), 0)\n"
   ]
  },
  {
   "cell_type": "code",
   "execution_count": 243,
   "id": "b5278137",
   "metadata": {},
   "outputs": [],
   "source": [
    "# Copying the ratings dataframe to a new dataframe for further processing\n",
    "movie_ratings = ratings.copy()"
   ]
  },
  {
   "cell_type": "code",
   "execution_count": 244,
   "metadata": {},
   "outputs": [
    {
     "data": {
      "text/html": [
       "<div>\n",
       "<style scoped>\n",
       "    .dataframe tbody tr th:only-of-type {\n",
       "        vertical-align: middle;\n",
       "    }\n",
       "\n",
       "    .dataframe tbody tr th {\n",
       "        vertical-align: top;\n",
       "    }\n",
       "\n",
       "    .dataframe thead th {\n",
       "        text-align: right;\n",
       "    }\n",
       "</style>\n",
       "<table border=\"1\" class=\"dataframe\">\n",
       "  <thead>\n",
       "    <tr style=\"text-align: right;\">\n",
       "      <th>movieId</th>\n",
       "      <th>1</th>\n",
       "      <th>2</th>\n",
       "      <th>3</th>\n",
       "      <th>4</th>\n",
       "      <th>5</th>\n",
       "      <th>6</th>\n",
       "      <th>7</th>\n",
       "      <th>8</th>\n",
       "      <th>9</th>\n",
       "      <th>10</th>\n",
       "      <th>...</th>\n",
       "      <th>193565</th>\n",
       "      <th>193567</th>\n",
       "      <th>193571</th>\n",
       "      <th>193573</th>\n",
       "      <th>193579</th>\n",
       "      <th>193581</th>\n",
       "      <th>193583</th>\n",
       "      <th>193585</th>\n",
       "      <th>193587</th>\n",
       "      <th>193609</th>\n",
       "    </tr>\n",
       "    <tr>\n",
       "      <th>userId</th>\n",
       "      <th></th>\n",
       "      <th></th>\n",
       "      <th></th>\n",
       "      <th></th>\n",
       "      <th></th>\n",
       "      <th></th>\n",
       "      <th></th>\n",
       "      <th></th>\n",
       "      <th></th>\n",
       "      <th></th>\n",
       "      <th></th>\n",
       "      <th></th>\n",
       "      <th></th>\n",
       "      <th></th>\n",
       "      <th></th>\n",
       "      <th></th>\n",
       "      <th></th>\n",
       "      <th></th>\n",
       "      <th></th>\n",
       "      <th></th>\n",
       "      <th></th>\n",
       "    </tr>\n",
       "  </thead>\n",
       "  <tbody>\n",
       "    <tr>\n",
       "      <th>1</th>\n",
       "      <td>4.0</td>\n",
       "      <td>NaN</td>\n",
       "      <td>4.0</td>\n",
       "      <td>NaN</td>\n",
       "      <td>NaN</td>\n",
       "      <td>4.0</td>\n",
       "      <td>NaN</td>\n",
       "      <td>NaN</td>\n",
       "      <td>NaN</td>\n",
       "      <td>NaN</td>\n",
       "      <td>...</td>\n",
       "      <td>NaN</td>\n",
       "      <td>NaN</td>\n",
       "      <td>NaN</td>\n",
       "      <td>NaN</td>\n",
       "      <td>NaN</td>\n",
       "      <td>NaN</td>\n",
       "      <td>NaN</td>\n",
       "      <td>NaN</td>\n",
       "      <td>NaN</td>\n",
       "      <td>NaN</td>\n",
       "    </tr>\n",
       "    <tr>\n",
       "      <th>2</th>\n",
       "      <td>NaN</td>\n",
       "      <td>NaN</td>\n",
       "      <td>NaN</td>\n",
       "      <td>NaN</td>\n",
       "      <td>NaN</td>\n",
       "      <td>NaN</td>\n",
       "      <td>NaN</td>\n",
       "      <td>NaN</td>\n",
       "      <td>NaN</td>\n",
       "      <td>NaN</td>\n",
       "      <td>...</td>\n",
       "      <td>NaN</td>\n",
       "      <td>NaN</td>\n",
       "      <td>NaN</td>\n",
       "      <td>NaN</td>\n",
       "      <td>NaN</td>\n",
       "      <td>NaN</td>\n",
       "      <td>NaN</td>\n",
       "      <td>NaN</td>\n",
       "      <td>NaN</td>\n",
       "      <td>NaN</td>\n",
       "    </tr>\n",
       "    <tr>\n",
       "      <th>3</th>\n",
       "      <td>NaN</td>\n",
       "      <td>NaN</td>\n",
       "      <td>NaN</td>\n",
       "      <td>NaN</td>\n",
       "      <td>NaN</td>\n",
       "      <td>NaN</td>\n",
       "      <td>NaN</td>\n",
       "      <td>NaN</td>\n",
       "      <td>NaN</td>\n",
       "      <td>NaN</td>\n",
       "      <td>...</td>\n",
       "      <td>NaN</td>\n",
       "      <td>NaN</td>\n",
       "      <td>NaN</td>\n",
       "      <td>NaN</td>\n",
       "      <td>NaN</td>\n",
       "      <td>NaN</td>\n",
       "      <td>NaN</td>\n",
       "      <td>NaN</td>\n",
       "      <td>NaN</td>\n",
       "      <td>NaN</td>\n",
       "    </tr>\n",
       "    <tr>\n",
       "      <th>4</th>\n",
       "      <td>NaN</td>\n",
       "      <td>NaN</td>\n",
       "      <td>NaN</td>\n",
       "      <td>NaN</td>\n",
       "      <td>NaN</td>\n",
       "      <td>NaN</td>\n",
       "      <td>NaN</td>\n",
       "      <td>NaN</td>\n",
       "      <td>NaN</td>\n",
       "      <td>NaN</td>\n",
       "      <td>...</td>\n",
       "      <td>NaN</td>\n",
       "      <td>NaN</td>\n",
       "      <td>NaN</td>\n",
       "      <td>NaN</td>\n",
       "      <td>NaN</td>\n",
       "      <td>NaN</td>\n",
       "      <td>NaN</td>\n",
       "      <td>NaN</td>\n",
       "      <td>NaN</td>\n",
       "      <td>NaN</td>\n",
       "    </tr>\n",
       "    <tr>\n",
       "      <th>5</th>\n",
       "      <td>4.0</td>\n",
       "      <td>NaN</td>\n",
       "      <td>NaN</td>\n",
       "      <td>NaN</td>\n",
       "      <td>NaN</td>\n",
       "      <td>NaN</td>\n",
       "      <td>NaN</td>\n",
       "      <td>NaN</td>\n",
       "      <td>NaN</td>\n",
       "      <td>NaN</td>\n",
       "      <td>...</td>\n",
       "      <td>NaN</td>\n",
       "      <td>NaN</td>\n",
       "      <td>NaN</td>\n",
       "      <td>NaN</td>\n",
       "      <td>NaN</td>\n",
       "      <td>NaN</td>\n",
       "      <td>NaN</td>\n",
       "      <td>NaN</td>\n",
       "      <td>NaN</td>\n",
       "      <td>NaN</td>\n",
       "    </tr>\n",
       "  </tbody>\n",
       "</table>\n",
       "<p>5 rows × 9724 columns</p>\n",
       "</div>"
      ],
      "text/plain": [
       "movieId  1       2       3       4       5       6       7       8       \\\n",
       "userId                                                                    \n",
       "1           4.0     NaN     4.0     NaN     NaN     4.0     NaN     NaN   \n",
       "2           NaN     NaN     NaN     NaN     NaN     NaN     NaN     NaN   \n",
       "3           NaN     NaN     NaN     NaN     NaN     NaN     NaN     NaN   \n",
       "4           NaN     NaN     NaN     NaN     NaN     NaN     NaN     NaN   \n",
       "5           4.0     NaN     NaN     NaN     NaN     NaN     NaN     NaN   \n",
       "\n",
       "movieId  9       10      ...  193565  193567  193571  193573  193579  193581  \\\n",
       "userId                   ...                                                   \n",
       "1           NaN     NaN  ...     NaN     NaN     NaN     NaN     NaN     NaN   \n",
       "2           NaN     NaN  ...     NaN     NaN     NaN     NaN     NaN     NaN   \n",
       "3           NaN     NaN  ...     NaN     NaN     NaN     NaN     NaN     NaN   \n",
       "4           NaN     NaN  ...     NaN     NaN     NaN     NaN     NaN     NaN   \n",
       "5           NaN     NaN  ...     NaN     NaN     NaN     NaN     NaN     NaN   \n",
       "\n",
       "movieId  193583  193585  193587  193609  \n",
       "userId                                   \n",
       "1           NaN     NaN     NaN     NaN  \n",
       "2           NaN     NaN     NaN     NaN  \n",
       "3           NaN     NaN     NaN     NaN  \n",
       "4           NaN     NaN     NaN     NaN  \n",
       "5           NaN     NaN     NaN     NaN  \n",
       "\n",
       "[5 rows x 9724 columns]"
      ]
     },
     "execution_count": 244,
     "metadata": {},
     "output_type": "execute_result"
    }
   ],
   "source": [
    "# Making a pivot table to get the ratings of each movie by each user\n",
    "ratings_by_users = movie_ratings.pivot_table(index='userId', columns='movieId', values='rating', aggfunc='first')\n",
    "ratings_by_users.head()"
   ]
  },
  {
   "cell_type": "markdown",
   "metadata": {},
   "source": [
    "<p>Implementing average agregation and least misery approaches for a set of users<p>"
   ]
  },
  {
   "cell_type": "code",
   "execution_count": 245,
   "metadata": {},
   "outputs": [],
   "source": [
    "def group_rating_prediction(userIds, all_users_ratings, strategy='average', useFullDataset=False):\n",
    "    # Get only the data about the users we are interested in\n",
    "    group_users_ratings = all_users_ratings.loc[userIds]\n",
    "\n",
    "    # Remove the movies that no one has rated\n",
    "    group_users_ratings = group_users_ratings.dropna(axis=1, how='all')\n",
    "\n",
    "    # Dataset to use for prediction\n",
    "    if(useFullDataset):\n",
    "        dataset_for_prediction = all_users_ratings.copy()\n",
    "    else:\n",
    "        dataset_for_prediction = group_users_ratings.copy()\n",
    "\n",
    "    # Fill the missing ratings of every user by predicting them\n",
    "    for user_id in userIds:\n",
    "        for movie_id in group_users_ratings.columns:\n",
    "            group_users_ratings.loc[user_id, movie_id] = predict_rating(user_id, movie_id, dataset_for_prediction)\n",
    "    \n",
    "    if(strategy == 'average'):\n",
    "        # Get the average rating for every movie\n",
    "        movie_ratings_average = group_users_ratings.mean(axis=0)\n",
    "\n",
    "    if(strategy == 'least_misery'):\n",
    "        # Get the least misery rating for every movie\n",
    "        movie_ratings_average = group_users_ratings.min(axis=0)\n",
    "\n",
    "    # Sort the movies by their average rating\n",
    "    movie_ratings_average = movie_ratings_average.sort_values(ascending=False)\n",
    "\n",
    "    return movie_ratings_average\n"
   ]
  },
  {
   "cell_type": "markdown",
   "metadata": {},
   "source": [
    "<p>Produce a group of 3 users, and for this group, show the top-10 recommendations, i.e.,\n",
    "the 10 movies with the highest prediction scores that (i) the average method suggests,\n",
    "and (ii) the least misery method suggest</p>"
   ]
  },
  {
   "cell_type": "code",
   "execution_count": 246,
   "metadata": {},
   "outputs": [
    {
     "name": "stderr",
     "output_type": "stream",
     "text": [
      "/home/dmitrii/.local/lib/python3.10/site-packages/numpy/lib/function_base.py:2897: RuntimeWarning: invalid value encountered in divide\n",
      "  c /= stddev[:, None]\n"
     ]
    },
    {
     "name": "stderr",
     "output_type": "stream",
     "text": [
      "/home/dmitrii/.local/lib/python3.10/site-packages/numpy/lib/function_base.py:2897: RuntimeWarning: invalid value encountered in divide\n",
      "  c /= stddev[:, None]\n"
     ]
    }
   ],
   "source": [
    "# Predictions for the given group of users\n",
    "userIds = [1, 2, 3]\n",
    "average_predictions = group_rating_prediction(userIds, ratings_by_users, strategy='average')\n",
    "least_misery_predictions = group_rating_prediction(userIds, ratings_by_users, strategy='least_misery')"
   ]
  },
  {
   "cell_type": "code",
   "execution_count": 247,
   "metadata": {},
   "outputs": [
    {
     "data": {
      "text/plain": [
       "movieId\n",
       "2851     4.649425\n",
       "70946    4.649425\n",
       "5181     4.649425\n",
       "849      4.649425\n",
       "5746     4.649425\n",
       "5919     4.649425\n",
       "6835     4.649425\n",
       "7991     4.649425\n",
       "3703     4.649425\n",
       "4518     4.649425\n",
       "dtype: float64"
      ]
     },
     "execution_count": 247,
     "metadata": {},
     "output_type": "execute_result"
    }
   ],
   "source": [
    "# Show the top 10 movies for the given group of users by average rating\n",
    "average_predictions.head(10)"
   ]
  },
  {
   "cell_type": "code",
   "execution_count": 248,
   "metadata": {},
   "outputs": [
    {
     "data": {
      "text/plain": [
       "movieId\n",
       "7991     3.948276\n",
       "3703     3.948276\n",
       "5919     3.948276\n",
       "5764     3.948276\n",
       "5746     3.948276\n",
       "26409    3.948276\n",
       "849      3.948276\n",
       "5181     3.948276\n",
       "2851     3.948276\n",
       "1587     3.948276\n",
       "dtype: float64"
      ]
     },
     "execution_count": 248,
     "metadata": {},
     "output_type": "execute_result"
    }
   ],
   "source": [
    "# Show the top 10 movies for the given group of users by least misery rating\n",
    "least_misery_predictions.head(10)"
   ]
  },
  {
   "cell_type": "markdown",
   "metadata": {},
   "source": [
    "<p> The ratings are the same for all of the top 10 suggestions. This is caused by the fact that we used the specified group of users to predict missing movie values. There were a lot of movies rated only by one user and in this case the prediction fucntion returns the mean rating of the user<p>\n",
    "\n",
    "<p>To avoid this kind of situation we can use the whole dataset to predict the missing movie ratings(since we use weighted ratings based on person correlation they should be accurate)</p>\n",
    "\n",
    "<p> Let's do it </p>"
   ]
  },
  {
   "cell_type": "code",
   "execution_count": 249,
   "metadata": {},
   "outputs": [
    {
     "name": "stderr",
     "output_type": "stream",
     "text": [
      "/home/dmitrii/.local/lib/python3.10/site-packages/numpy/lib/function_base.py:2897: RuntimeWarning: invalid value encountered in divide\n",
      "  c /= stddev[:, None]\n",
      "/home/dmitrii/.local/lib/python3.10/site-packages/numpy/lib/function_base.py:2898: RuntimeWarning: invalid value encountered in divide\n",
      "  c /= stddev[None, :]\n",
      "/home/dmitrii/.local/lib/python3.10/site-packages/numpy/lib/function_base.py:2897: RuntimeWarning: invalid value encountered in divide\n",
      "  c /= stddev[:, None]\n",
      "/home/dmitrii/.local/lib/python3.10/site-packages/numpy/lib/function_base.py:2898: RuntimeWarning: invalid value encountered in divide\n",
      "  c /= stddev[None, :]\n"
     ]
    }
   ],
   "source": [
    "# Using the full dataset for prediction\n",
    "userIds = [1, 2, 3]\n",
    "average_predictions = group_rating_prediction(userIds, ratings_by_users, strategy='average', useFullDataset=True)\n",
    "least_misery_predictions = group_rating_prediction(userIds, ratings_by_users, strategy='least_misery', useFullDataset=True)\n"
   ]
  },
  {
   "cell_type": "code",
   "execution_count": 250,
   "metadata": {},
   "outputs": [
    {
     "data": {
      "text/plain": [
       "movieId\n",
       "5181     4.649425\n",
       "6835     4.649425\n",
       "5746     4.649425\n",
       "1927     4.644784\n",
       "919      4.633701\n",
       "80489    4.565617\n",
       "954      4.531133\n",
       "7899     4.482759\n",
       "5764     4.482759\n",
       "3147     4.475918\n",
       "dtype: float64"
      ]
     },
     "execution_count": 250,
     "metadata": {},
     "output_type": "execute_result"
    }
   ],
   "source": [
    "average_predictions.head(10)"
   ]
  },
  {
   "cell_type": "code",
   "execution_count": 251,
   "metadata": {},
   "outputs": [
    {
     "data": {
      "text/plain": [
       "movieId\n",
       "1927     4.204374\n",
       "80489    4.196850\n",
       "2116     4.077340\n",
       "4518     4.026903\n",
       "5746     3.948276\n",
       "5764     3.948276\n",
       "6835     3.948276\n",
       "7899     3.948276\n",
       "5181     3.948276\n",
       "3147     3.928063\n",
       "dtype: float64"
      ]
     },
     "execution_count": 251,
     "metadata": {},
     "output_type": "execute_result"
    }
   ],
   "source": [
    "least_misery_predictions.head(10)"
   ]
  },
  {
   "cell_type": "markdown",
   "metadata": {},
   "source": [
    "<p>As we can see now the ratings look better, but it required more computing to produce the results</p>"
   ]
  },
  {
   "cell_type": "markdown",
   "metadata": {},
   "source": [
    "<h2>Part B</h2>\n",
    "\n",
    "Define a way for counting the disagreements between the users in a group, and propose a method that takes disagreements into account when computing suggestions for the group"
   ]
  },
  {
   "cell_type": "markdown",
   "metadata": {},
   "source": [
    "We propose two ways of computing suggestions with considering disagreements. One item-based and one user-based. The item-based takes the disagreements for each item rating into account, so how diverse the ratings for this movie is, the more diverse the less weight it will have when predicting. The user-based considers the disagreements between each pair of users for all items and determine a disagreement factor for each user, so that defines how much do their ratings differ from other users, the bigger this factor the less weight will they have when predicting the items."
   ]
  },
  {
   "cell_type": "markdown",
   "metadata": {},
   "source": [
    "<h3>User-based:</h3>\n",
    "One way to capture disagreements is to consider the variance or diversity in user ratings within the group. The idea is to, calculate a disagreement matrix, for a group of users, that represents the differences in ratings between each pair of users. One way to measure this difference is by computing the squared differences between their ratings for common items. When computing recommendations for the group, we use a weighted averaging aggregiation, where the weights are inversely proportional to the disagreement between users. The rationale is that users who tend to disagree less should have more influence on the group recommendations."
   ]
  },
  {
   "cell_type": "code",
   "execution_count": 252,
   "metadata": {},
   "outputs": [
    {
     "data": {
      "text/plain": [
       "movieId\n",
       "131724    5.000000\n",
       "122882    5.000000\n",
       "106782    5.000000\n",
       "60756     5.000000\n",
       "89774     5.000000\n",
       "80906     5.000000\n",
       "3578      4.861538\n",
       "333       4.861538\n",
       "1704      4.500000\n",
       "58559     4.500000\n",
       "dtype: float64"
      ]
     },
     "execution_count": 252,
     "metadata": {},
     "output_type": "execute_result"
    }
   ],
   "source": [
    "def calculate_disagreement_matrix(ratings_by_relevant_user_matrix: pd.DataFrame) -> np.ndarray:\n",
    "    # Get the number of users and movies\n",
    "    number_of_users = ratings_by_relevant_user_matrix.shape[0]\n",
    "\n",
    "    # Initialize the disagreement matrix\n",
    "    disagreement_matrix = np.zeros((number_of_users, number_of_users))\n",
    "\n",
    "    # Calculate the disagreement matrix\n",
    "    for user1 in range(number_of_users):\n",
    "        for user2 in range(user1 + 1, number_of_users):\n",
    "            # Get the ratings of the two users\n",
    "            user1_ratings = ratings_by_relevant_user_matrix.iloc[user1]\n",
    "            user2_ratings = ratings_by_relevant_user_matrix.iloc[user2]\n",
    "\n",
    "            # Get the common items\n",
    "            common_items = user1_ratings.notna() & user2_ratings.notna()\n",
    "\n",
    "            if common_items.sum() == 0:\n",
    "                continue\n",
    "            \n",
    "            # Calculate the squared difference between the ratings\n",
    "            disagreement = ((user1_ratings[common_items] - user2_ratings[common_items]) ** 2).sum() / common_items.sum()\n",
    "\n",
    "            # Add the disagreement to the matrix\n",
    "            disagreement_matrix[user1, user2] = disagreement\n",
    "            disagreement_matrix[user2, user1] = disagreement\n",
    "\n",
    "    return disagreement_matrix\n",
    "\n",
    "def group_rating_prediction_with_disagreement(userIds, ratings_by_users):\n",
    "    # Get only the data about the users we are interested in\n",
    "    ratings_by_relevant_users = ratings_by_users.loc[userIds]\n",
    "\n",
    "    # Remove the movies that no one has rated\n",
    "    ratings_by_relevant_users = ratings_by_relevant_users.dropna(axis=1, how='all')\n",
    "    \n",
    "    # Calculate the disagreement matrix\n",
    "    disagreement_matrix = calculate_disagreement_matrix(ratings_by_relevant_users)\n",
    "\n",
    "    # weights will be inversely proportional to the sum of disagreements\n",
    "    weights = 1 / (1 + disagreement_matrix.sum(axis=1))\n",
    "\n",
    "    # aggregate the ratings of the users by calculating the weighted average\n",
    "    weighted_average = pd.Series(index=ratings_by_relevant_users.columns)\n",
    "    for movie_id in ratings_by_relevant_users.columns:\n",
    "        weighted_average[movie_id] = (ratings_by_relevant_users[movie_id] * weights).sum() / weights.sum()\n",
    "    \n",
    "    # transform the ratings to the range of 0 - 5\n",
    "    weighted_average = weighted_average * 5 / weighted_average.max()\n",
    "    \n",
    "    return weighted_average.sort_values(ascending=False)\n",
    "    \n",
    "group_rating_prediction_with_disagreement(userIds, ratings_by_users).head(10)"
   ]
  },
  {
   "cell_type": "markdown",
   "metadata": {},
   "source": [
    "<h3>Item-based:</h3>\n",
    "\n",
    "As mentioned above, the item-based takes the disagreements for each item rating into account, so how diverse the ratings for this movie is.\n",
    "So we calculate the variance of the different ratings by users for each movie and we take the inverse of this value so it becomes the weight of the movie. Then we aggregate the user ratings for each movie by taking the weighted average. The idea behind this approach is that the group rating will be more influenced by the average rating of the group members for movies where they tend to agree, and less influenced by the average rating of the group members for movies where they tend to disagree."
   ]
  },
  {
   "cell_type": "code",
   "execution_count": 253,
   "metadata": {},
   "outputs": [
    {
     "name": "stderr",
     "output_type": "stream",
     "text": [
      "/home/dmitrii/.local/lib/python3.10/site-packages/numpy/lib/function_base.py:2897: RuntimeWarning: invalid value encountered in divide\n",
      "  c /= stddev[:, None]\n",
      "/home/dmitrii/.local/lib/python3.10/site-packages/numpy/lib/function_base.py:2898: RuntimeWarning: invalid value encountered in divide\n",
      "  c /= stddev[None, :]\n"
     ]
    },
    {
     "data": {
      "text/plain": [
       "movieId\n",
       "6835     5.000000\n",
       "4518     5.000000\n",
       "7991     5.000000\n",
       "2851     5.000000\n",
       "70946    5.000000\n",
       "5746     5.000000\n",
       "5181     5.000000\n",
       "5919     5.000000\n",
       "3703     5.000000\n",
       "7899     4.461538\n",
       "dtype: float64"
      ]
     },
     "execution_count": 253,
     "metadata": {},
     "output_type": "execute_result"
    }
   ],
   "source": [
    "def group_rating_prediction_with_variance(userIds, ratings_by_users):\n",
    "    # Get only the data about the users we are interested in\n",
    "    ratings_by_relevant_users = ratings_by_users.loc[userIds]\n",
    "\n",
    "    # Remove the movies that no one has rated\n",
    "    ratings_by_relevant_users = ratings_by_relevant_users.dropna(axis=1, how='all')\n",
    "\n",
    "    # Fill the missing ratings of every user by predicting them\n",
    "    for user_id in userIds:\n",
    "        for movie_id in ratings_by_relevant_users.columns:\n",
    "            ratings_by_relevant_users.loc[user_id, movie_id] = predict_rating(user_id, movie_id, ratings_by_relevant_users)\n",
    "    \n",
    "    # Calculate the variance of the ratings of the group members for each movie\n",
    "    variance = ratings_by_relevant_users.var(axis=0, skipna=True)\n",
    "    \n",
    "    # weights will be inversely proportional to the variance\n",
    "    movies_weights = 1 / (1 + variance)\n",
    "\n",
    "    # aggregate the ratings of the users by calculating the weighted average\n",
    "    weighted_average = pd.Series(index=ratings_by_relevant_users.columns)\n",
    "    for movie_id in ratings_by_relevant_users.columns:\n",
    "        weighted_average[movie_id] = (ratings_by_relevant_users[movie_id].sum() * movies_weights[movie_id]) / len(userIds)\n",
    "\n",
    "    # transform the ratings to the range of 0 - 5\n",
    "    weighted_average = weighted_average * 5 / weighted_average.max()\n",
    "    return weighted_average.sort_values(ascending=False)\n",
    "\n",
    "group_rating_prediction_with_variance(userIds, ratings_by_users).head(10)\n",
    "\n",
    "    "
   ]
  }
 ],
 "metadata": {
  "kernelspec": {
   "display_name": "Python 3 (ipykernel)",
   "language": "python",
   "name": "python3"
  },
  "language_info": {
   "codemirror_mode": {
    "name": "ipython",
    "version": 3
   },
   "file_extension": ".py",
   "mimetype": "text/x-python",
   "name": "python",
   "nbconvert_exporter": "python",
   "pygments_lexer": "ipython3",
   "version": "3.10.12"
  }
 },
 "nbformat": 4,
 "nbformat_minor": 5
}
